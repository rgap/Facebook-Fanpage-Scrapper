{
 "cells": [
  {
   "cell_type": "markdown",
   "metadata": {},
   "source": [
    "## Introduction\n",
    "\n",
    "Latent Dirichlet Allocation (LDA) has become a very a common approach when dealing with document clustering. However, in classification tasks the probability distribution from LDA is not the best choice for feature representations. More recent methods have been proposed to represent words and documents such as Word2Vec and Doc2Vec. These representations have shown more effectiveness than LDA-style representations in many tasks.\n",
    "\n",
    "Inspired by Neural Probabilistic Language Model <cite data-cite=\"bengio2003neural\">Bengio, 2003</cite>, <cite data-cite=\"mikolov2013efficient\">Mikolov, 2013</cite> proposed Word2Vec. \n",
    "\n",
    "Word2Vec takes in a corpus, and churns out vectors for each of the words in there. What is special about these vectors is that they represent how we use the words. For example, the relationship between `v_man - v_woman` is approximately equal to `v_king - v_queen`. The process of representing these relationships is called **word embedding**.\n",
    "\n",
    "It is based on the hypothesis that words occur in similar contexts (neighboring words) tend to have similar meanings. \n",
    "\n",
    "Recently, <cite data-cite=\"le2014distributed\">Le and Mikolov, 2014</cite> proposed Doc2Vec as an extension to Word2Vec to learn document-level embeddings. Doc2Vec allows us to represent not only words, but entire sentences and documents."
   ]
  },
  {
   "cell_type": "markdown",
   "metadata": {},
   "source": [
    "@article{bengio2003neural,\n",
    "  title={A neural probabilistic language model},\n",
    "  author={Bengio, Yoshua and Ducharme, R{\\'e}jean and Vincent, Pascal and Jauvin, Christian},\n",
    "  journal={journal of machine learning research},\n",
    "  volume={3},\n",
    "  number={Feb},\n",
    "  pages={1137--1155},\n",
    "  year={2003}\n",
    "}\n",
    "\n",
    "@article{mikolov2013efficient,\n",
    "  title={Efficient estimation of word representations in vector space},\n",
    "  author={Mikolov, Tomas and Chen, Kai and Corrado, Greg and Dean, Jeffrey},\n",
    "  journal={arXiv preprint arXiv:1301.3781},\n",
    "  year={2013}\n",
    "}\n",
    "\n",
    "@inproceedings{le2014distributed,\n",
    "  title={Distributed Representations of Sentences and Documents.},\n",
    "  author={Le, Quoc V and Mikolov, Tomas},\n",
    "  booktitle={ICML},\n",
    "  volume={14},\n",
    "  pages={1188--1196},\n",
    "  year={2014}\n",
    "}"
   ]
  },
  {
   "cell_type": "markdown",
   "metadata": {},
   "source": [
    "## Algorithm"
   ]
  },
  {
   "cell_type": "markdown",
   "metadata": {},
   "source": [
    "When training, given a word sequence $D=\\left \\{w_{1},...,w_{M}  \\right \\}$, the learning objective functions are defined to maximize the following log-likelihoods.\n",
    "\n",
    "$$\n",
    "\\mathcal{L}_{CBOW}(D)=\\frac{1}{M}\\sum_{i=1}^{M}\\log p(w_{i}|w_{cxt}),\n",
    "$$\n",
    "$$\n",
    "\\mathcal{L}_{Skip-gram}(D)=\\frac{1}{M}\\sum_{i=1}^{M}\\sum_{-k\\leq c\\leq k,c\\neq 0}\\log p(w_{i+c}|w_{i}).\n",
    "$$\n",
    "\n",
    "$w_{cxt}$ indicates the context of the current word $w_{i}$.\n",
    "\n",
    "$k$ is the window size of context.\n",
    "\n",
    "For any variables $w_{j}$ and $w_{i}$, the conditional probability $p(w_{j}|w_{i})$ is calculated using softmax function as follows,\n",
    "\n",
    "$$\n",
    "p(w_{j}|w_{i})=\\frac{\\exp(\\mathbf{w_{j}} \\cdot \\mathbf{w_{i}})}{\\sum_{w\\in W}\\exp(\\mathbf{w} \\cdot \\mathbf{w_{i}})},\n",
    "$$\n",
    "\n",
    "where $\\mathbf{w}$, $\\mathbf{w_{i}}$ and $\\mathbf{w_{j}}$ are respectively the word representations of word $w$, $w_{i}$ and $w_{j}$, $W$ is the word vocabulary."
   ]
  },
  {
   "cell_type": "markdown",
   "metadata": {},
   "source": [
    "**Now, how do these equations do the magic, is a question I'm still trying to answer.**\n",
    "\n",
    "The thing is that Word2Vec's input is a text corpus and its output is a set of vectors: feature vectors for words in that corpus. Something similar with Doc2Vec but for sentences, paragraphs or even documents."
   ]
  },
  {
   "cell_type": "markdown",
   "metadata": {},
   "source": [
    "## Doc2Vec"
   ]
  },
  {
   "cell_type": "code",
   "execution_count": 19,
   "metadata": {
    "collapsed": true
   },
   "outputs": [],
   "source": [
    "import numpy\n",
    "import pandas as pd"
   ]
  },
  {
   "cell_type": "code",
   "execution_count": 20,
   "metadata": {
    "collapsed": true
   },
   "outputs": [],
   "source": [
    "from gensim.models.doc2vec import Doc2Vec, LabeledSentence"
   ]
  },
  {
   "cell_type": "code",
   "execution_count": 21,
   "metadata": {
    "collapsed": false
   },
   "outputs": [
    {
     "data": {
      "text/plain": [
       "1    top top pokemon incredible\n",
       "4                    incredible\n",
       "9          pictures pokemon top\n",
       "dtype: object"
      ]
     },
     "execution_count": 21,
     "metadata": {},
     "output_type": "execute_result"
    }
   ],
   "source": [
    "sentences = [\"top top pokemon incredible\", \n",
    "             \"incredible\", \n",
    "             \"pictures pokemon top\"]\n",
    "sentences_df = pd.Series(sentences, index=[1,4,9])\n",
    "sentences_df"
   ]
  },
  {
   "cell_type": "markdown",
   "metadata": {},
   "source": [
    "These sentences must be transformed into an array of LabeledSentence"
   ]
  },
  {
   "cell_type": "code",
   "execution_count": 22,
   "metadata": {
    "collapsed": false
   },
   "outputs": [
    {
     "data": {
      "text/plain": [
       "[LabeledSentence(words=['top', 'top', 'pokemon', 'incredible'], tags=['SENT_1']),\n",
       " LabeledSentence(words=['incredible'], tags=['SENT_4']),\n",
       " LabeledSentence(words=['pictures', 'pokemon', 'top'], tags=['SENT_9'])]"
      ]
     },
     "execution_count": 22,
     "metadata": {},
     "output_type": "execute_result"
    }
   ],
   "source": [
    "def get_labeled_sentences(sentences):\n",
    "    labeled_sentences = []\n",
    "    for index, row in sentences.iteritems():\n",
    "        tag = '{}_{}'.format(\"SENT\", index)\n",
    "        tokens = row.split()\n",
    "        labeled_sentences.append(LabeledSentence(words=tokens, tags=[tag]))\n",
    "    return labeled_sentences\n",
    "\n",
    "labeled_sentences = get_labeled_sentences(sentences_df)\n",
    "labeled_sentences"
   ]
  },
  {
   "cell_type": "markdown",
   "metadata": {},
   "source": [
    "**Initializing a Doc2Vec feature model**"
   ]
  },
  {
   "cell_type": "code",
   "execution_count": 23,
   "metadata": {
    "collapsed": true
   },
   "outputs": [],
   "source": [
    "d2v_model = Doc2Vec(dm=0, size=100, negative=5, hs=0, min_count=2)\n",
    "\n",
    "# Building a vocabulary\n",
    "d2v_model.build_vocab(labeled_sentences)"
   ]
  },
  {
   "cell_type": "markdown",
   "metadata": {},
   "source": [
    "**Vocabulary**"
   ]
  },
  {
   "cell_type": "code",
   "execution_count": 24,
   "metadata": {
    "collapsed": false
   },
   "outputs": [
    {
     "data": {
      "text/plain": [
       "{'incredible': <gensim.models.word2vec.Vocab at 0x10c5d0710>,\n",
       " 'pokemon': <gensim.models.word2vec.Vocab at 0x10c5d06d8>,\n",
       " 'top': <gensim.models.word2vec.Vocab at 0x10c5d0630>}"
      ]
     },
     "execution_count": 24,
     "metadata": {},
     "output_type": "execute_result"
    }
   ],
   "source": [
    "d2v_model.vocab"
   ]
  },
  {
   "cell_type": "markdown",
   "metadata": {},
   "source": [
    "### Training Doc2Vec\n",
    "\n",
    "Now when training the model, it is better if **in each training epoch, the sequence of sentences fed to the model must be randomized**.\n",
    "\n",
    "We train it for 2 epochs, just for testing."
   ]
  },
  {
   "cell_type": "code",
   "execution_count": 25,
   "metadata": {
    "collapsed": false
   },
   "outputs": [
    {
     "data": {
      "text/plain": [
       "[LabeledSentence(words=['incredible'], tags=['SENT_4']),\n",
       " LabeledSentence(words=['pictures', 'pokemon', 'top'], tags=['SENT_9']),\n",
       " LabeledSentence(words=['top', 'top', 'pokemon', 'incredible'], tags=['SENT_1'])]"
      ]
     },
     "execution_count": 25,
     "metadata": {},
     "output_type": "execute_result"
    }
   ],
   "source": [
    "import numpy as np\n",
    "np.random.shuffle(labeled_sentences)\n",
    "labeled_sentences"
   ]
  },
  {
   "cell_type": "code",
   "execution_count": 26,
   "metadata": {
    "collapsed": false
   },
   "outputs": [
    {
     "name": "stdout",
     "output_type": "stream",
     "text": [
      "Training epoch 0\n",
      "Training epoch 10\n"
     ]
    }
   ],
   "source": [
    "import numpy as np\n",
    "\n",
    "for epoch in range(20):\n",
    "    if epoch % 10 == 0:\n",
    "        print('Training epoch %s' % epoch)\n",
    "    np.random.shuffle(labeled_sentences)\n",
    "    d2v_model.train(labeled_sentences)\n",
    "    # d2v_model.alpha -= 0.002  # decrease the learning rate\n",
    "    # d2v_model.min_alpha = model.alpha  # fix the learning rate, no decay"
   ]
  },
  {
   "cell_type": "markdown",
   "metadata": {},
   "source": [
    "**Similar words**"
   ]
  },
  {
   "cell_type": "code",
   "execution_count": 27,
   "metadata": {
    "collapsed": false
   },
   "outputs": [
    {
     "data": {
      "text/plain": [
       "[('incredible', 0.05007721483707428), ('top', 0.03888716548681259)]"
      ]
     },
     "execution_count": 27,
     "metadata": {},
     "output_type": "execute_result"
    }
   ],
   "source": [
    "d2v_model.most_similar('pokemon')"
   ]
  },
  {
   "cell_type": "markdown",
   "metadata": {},
   "source": [
    "**Feature vectors** are already created for each sentence."
   ]
  },
  {
   "cell_type": "code",
   "execution_count": 28,
   "metadata": {
    "collapsed": false
   },
   "outputs": [
    {
     "data": {
      "text/plain": [
       "array([ 0.05254378,  0.05870234,  0.05283913, -0.01671599,  0.08721905,\n",
       "       -0.18136559,  0.10050566,  0.05293556,  0.03988218, -0.01508981,\n",
       "       -0.13609309, -0.00902753, -0.09600364, -0.0971671 ,  0.25164476,\n",
       "        0.05947693,  0.13056594, -0.02864388, -0.14614843,  0.02102559,\n",
       "       -0.12426595,  0.08202478,  0.13771024, -0.16239217, -0.05853705,\n",
       "       -0.07950524, -0.14395528,  0.1105358 ,  0.05596012, -0.09191974,\n",
       "        0.21546553,  0.181086  , -0.09484478,  0.02901912,  0.18977143,\n",
       "       -0.11266446, -0.09606951, -0.08368932, -0.20477168,  0.16799164,\n",
       "        0.09547763, -0.08988797,  0.1072941 ,  0.2237114 , -0.06124739,\n",
       "        0.09401114,  0.15434267, -0.11518187, -0.15179442, -0.01590799,\n",
       "       -0.01142174, -0.02525934,  0.16923931, -0.09381536, -0.07785513,\n",
       "       -0.00170822,  0.09577388,  0.06363311, -0.17406584, -0.06984034,\n",
       "       -0.2268267 ,  0.07457308, -0.07628529, -0.08977734, -0.00403528,\n",
       "       -0.11463188, -0.01919398, -0.04790471, -0.01864733,  0.00068507,\n",
       "        0.1443612 , -0.05168568,  0.14799997, -0.15574734,  0.19767368,\n",
       "       -0.18806143, -0.20105332,  0.19472405,  0.10474526, -0.10050555,\n",
       "       -0.09805577,  0.06945167,  0.20351008, -0.15270649, -0.04752333,\n",
       "       -0.13155694, -0.25359455,  0.15729046, -0.18626226, -0.10066133,\n",
       "       -0.01280632,  0.11314747, -0.06902687, -0.01900114, -0.13695695,\n",
       "        0.16166034, -0.15517075,  0.06792063, -0.07482303, -0.09150658], dtype=float32)"
      ]
     },
     "execution_count": 28,
     "metadata": {},
     "output_type": "execute_result"
    }
   ],
   "source": [
    "d2v_model.docvecs[0]  # Or d2v_model.docvecs['SENT_0'] "
   ]
  },
  {
   "cell_type": "markdown",
   "metadata": {},
   "source": [
    "**And these are the most similar sentences to SEN_0**"
   ]
  },
  {
   "cell_type": "code",
   "execution_count": 29,
   "metadata": {
    "collapsed": false
   },
   "outputs": [
    {
     "data": {
      "text/plain": [
       "[('SENT_9', 0.9858200550079346), ('SENT_4', 0.9065355062484741)]"
      ]
     },
     "execution_count": 29,
     "metadata": {},
     "output_type": "execute_result"
    }
   ],
   "source": [
    "d2v_model.docvecs.most_similar(0)"
   ]
  },
  {
   "cell_type": "markdown",
   "metadata": {},
   "source": [
    "**To generate a feature vector for a new sentence**"
   ]
  },
  {
   "cell_type": "code",
   "execution_count": 30,
   "metadata": {
    "collapsed": false
   },
   "outputs": [
    {
     "data": {
      "text/plain": [
       "array([ -8.20554633e-05,  -3.41353426e-03,   3.46261193e-03,\n",
       "        -3.20510613e-03,  -1.58923515e-03,  -4.70792083e-03,\n",
       "        -1.85440481e-03,  -1.80565356e-03,   3.63556173e-04,\n",
       "         1.94994779e-03,  -2.33599334e-03,   2.30714050e-03,\n",
       "        -3.69901373e-03,  -2.68365350e-03,  -3.01074935e-03,\n",
       "        -3.07919155e-03,   3.17771570e-03,  -9.16160236e-04,\n",
       "        -1.31834624e-03,   1.34507695e-03,   3.72927985e-04,\n",
       "        -4.25274670e-03,   1.30011584e-03,  -4.29472281e-03,\n",
       "         3.69536388e-03,  -3.37308629e-05,   4.97602578e-03,\n",
       "         4.42681019e-04,   2.98610283e-03,  -1.38805632e-03,\n",
       "        -2.56195723e-04,  -2.71460135e-03,   3.58205521e-03,\n",
       "         1.70054589e-03,  -2.36830185e-03,   3.33259301e-03,\n",
       "         4.87473886e-03,   1.50523637e-03,  -1.42770947e-03,\n",
       "         2.68113986e-03,  -3.62928165e-03,   2.73667742e-03,\n",
       "        -1.32767204e-03,   3.64120374e-03,   6.25558896e-05,\n",
       "         3.10729397e-03,   3.86060239e-03,   2.03775766e-04,\n",
       "        -4.36415942e-03,   3.29373218e-03,   3.61186010e-03,\n",
       "         3.04541038e-03,   3.78893362e-03,   2.85980850e-03,\n",
       "        -4.04511066e-03,  -4.58337739e-03,   4.31303261e-03,\n",
       "        -3.30356951e-03,  -3.27631366e-03,  -2.33354396e-03,\n",
       "        -4.30450635e-03,  -1.66964438e-03,  -3.36695393e-03,\n",
       "        -4.92217205e-03,   4.39492846e-03,   1.61462347e-03,\n",
       "         1.07329234e-03,  -4.95902076e-03,  -9.07336362e-04,\n",
       "        -1.52877229e-03,  -5.52217010e-04,  -1.43545156e-03,\n",
       "        -7.55674846e-04,   2.38327775e-03,  -1.96000154e-04,\n",
       "        -1.27810903e-03,   4.93041612e-03,  -4.30347072e-03,\n",
       "        -1.56462914e-03,  -7.35506474e-04,  -4.26479010e-03,\n",
       "        -4.93013952e-03,   6.25660119e-04,  -2.38131543e-04,\n",
       "         4.73565003e-03,   1.82700844e-03,  -3.69688933e-04,\n",
       "        -1.24944316e-03,   1.48687919e-03,  -2.10228818e-03,\n",
       "        -4.44797333e-03,   1.25655715e-04,  -4.81742527e-03,\n",
       "         2.40666047e-03,   1.45396206e-03,  -2.64956057e-03,\n",
       "        -1.44612743e-03,  -2.73977057e-03,   1.31093280e-03,\n",
       "         4.03236318e-03], dtype=float32)"
      ]
     },
     "execution_count": 30,
     "metadata": {},
     "output_type": "execute_result"
    }
   ],
   "source": [
    "d2v_model.infer_vector(\"top sentence\")"
   ]
  },
  {
   "cell_type": "markdown",
   "metadata": {},
   "source": [
    "## Plotting words"
   ]
  },
  {
   "cell_type": "code",
   "execution_count": 31,
   "metadata": {
    "collapsed": true
   },
   "outputs": [],
   "source": [
    "import seaborn as sns\n",
    "import matplotlib.pyplot as plt\n",
    "from sklearn.decomposition import PCA"
   ]
  },
  {
   "cell_type": "code",
   "execution_count": 32,
   "metadata": {
    "collapsed": true
   },
   "outputs": [],
   "source": [
    "def plotWords(model):\n",
    "    \n",
    "    words_np = []\n",
    "    #a list of labels (words)\n",
    "    words_label = []\n",
    "    for word in model.vocab.keys():\n",
    "        words_np.append(model[word])\n",
    "        words_label.append(word)\n",
    "    print('Added %s words. Shape %s'%(len(words_np), np.shape(words_np)))\n",
    " \n",
    "    pca = PCA(n_components=2)\n",
    "    pca.fit(words_np)\n",
    "    reduced = pca.transform(words_np)\n",
    " \n",
    "    for index, vec in enumerate(reduced):\n",
    "        # print ('%s %s'%(words_label[index],vec))\n",
    "        # if index < 100:\n",
    "        x, y = vec[0], vec[1]\n",
    "        plt.scatter(x, y)\n",
    "        plt.annotate(words_label[index], xy=(x + 0.0005, y))\n",
    "    plt.show()"
   ]
  },
  {
   "cell_type": "code",
   "execution_count": 33,
   "metadata": {
    "collapsed": false
   },
   "outputs": [
    {
     "name": "stdout",
     "output_type": "stream",
     "text": [
      "Added 3 words. Shape (3, 100)\n"
     ]
    },
    {
     "data": {
      "image/png": "[encoded data removed]",
      "text/plain": [
       "<matplotlib.figure.Figure at 0x10c19aa20>"
      ]
     },
     "metadata": {},
     "output_type": "display_data"
    }
   ],
   "source": [
    "plotWords(d2v_model)"
   ]
  },
  {
   "cell_type": "markdown",
   "metadata": {},
   "source": [
    "## Plotting the sentences in a 2D space"
   ]
  },
  {
   "cell_type": "code",
   "execution_count": 34,
   "metadata": {
    "collapsed": true
   },
   "outputs": [],
   "source": [
    "def plot2D_features(features, legend_labels=[], labels=None, num_rows=None, annotate=False,\n",
    "                    marker_size=40, plot_size=6, annotate_fontsize=0.5):\n",
    "    if num_rows == None or num_rows > features.shape[0]:\n",
    "        num_rows = features.shape[0]\n",
    "    print(\"PCA...\")\n",
    "    pca = PCA(n_components=2)\n",
    "    pca.fit(features[:num_rows])\n",
    "    reduced = pd.DataFrame(pca.transform(features[:num_rows]), columns=[\"x\", \"y\"], index=features.index[:num_rows])\n",
    "\n",
    "    print(\"Plotting...\")\n",
    "    if not labels is None:\n",
    "        reduced[\"c\"] = labels[:num_rows]\n",
    "        sns.lmplot(\"x\", \"y\", data=reduced, hue=\"c\", fit_reg=False, size=plot_size, aspect=2,\n",
    "                   scatter_kws={\"s\": marker_size, \"linewidths\": 0.2, \"edgecolor\": \"black\"}, legend=False)\n",
    "        plt.legend(legend_labels, scatterpoints=1, fontsize=14, fancybox=True, framealpha=0.1, bbox_to_anchor=(1, 1), loc=2, borderaxespad=0.)\n",
    "        plt.xlabel(\"x\", fontsize=14)\n",
    "        plt.ylabel(\"y\", fontsize=14)\n",
    "        plt.tick_params(labelsize=13)\n",
    "    else:\n",
    "        plt.scatter(reduced[\"x\"], reduced[\"y\"], s=marker_size, linewidths=0.2, edgecolor=\"black\", color=\"green\")\n",
    "        plt.xlabel(\"x\", fontsize=14)\n",
    "        plt.ylabel(\"y\", fontsize=14)\n",
    "        plt.tick_params(labelsize=13)\n",
    "        \n",
    "    plt.tight_layout()\n",
    "    if annotate:\n",
    "        for index, row in reduced.iterrows():\n",
    "            plt.annotate(index, xy=(row[\"x\"], row[\"y\"]), fontsize=annotate_fontsize)    \n",
    "    plt.show()"
   ]
  },
  {
   "cell_type": "code",
   "execution_count": 43,
   "metadata": {
    "collapsed": false
   },
   "outputs": [
    {
     "name": "stdout",
     "output_type": "stream",
     "text": [
      "PCA...\n",
      "Plotting...\n"
     ]
    },
    {
     "data": {
      "image/png": "[encoded data removed]",
      "text/plain": [
       "<matplotlib.figure.Figure at 0x10e0ab710>"
      ]
     },
     "metadata": {},
     "output_type": "display_data"
    }
   ],
   "source": [
    "labels = pd.Series([0,0,1])\n",
    "features = pd.DataFrame(list(d2v_model.docvecs))\n",
    "plot2D_features(features, labels=labels, annotate=True, annotate_fontsize=20)"
   ]
  }
 ],
 "metadata": {
  "kernelspec": {
   "display_name": "Python 3",
   "language": "python",
   "name": "python3"
  },
  "language_info": {
   "codemirror_mode": {
    "name": "ipython",
    "version": 3
   },
   "file_extension": ".py",
   "mimetype": "text/x-python",
   "name": "python",
   "nbconvert_exporter": "python",
   "pygments_lexer": "ipython3",
   "version": "3.5.2"
  }
 },
 "nbformat": 4,
 "nbformat_minor": 1
}
