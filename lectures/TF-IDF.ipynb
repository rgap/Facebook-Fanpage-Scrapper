{
 "cells": [
  {
   "cell_type": "markdown",
   "metadata": {},
   "source": [
    "## TF-IDF\n",
    "\n",
    "sklearn's implementation receives an array of strings as documents, they are tokenized, it counts every token, then those countings are normalized and stored in a compressed matrix.\n",
    "\n",
    "Using TfidfVectorizer directly."
   ]
  },
  {
   "cell_type": "code",
   "execution_count": 1,
   "metadata": {
    "collapsed": false
   },
   "outputs": [
    {
     "name": "stdout",
     "output_type": "stream",
     "text": [
      "  (0, 0)\t0.334906702661\n",
      "  (0, 2)\t0.334906702661\n",
      "  (0, 3)\t0.880724134463\n",
      "  (1, 0)\t1.0\n",
      "  (2, 1)\t0.795960541568\n",
      "  (2, 2)\t0.605348508106\n"
     ]
    }
   ],
   "source": [
    "import numpy as np\n",
    "from sklearn.feature_extraction.text import TfidfVectorizer\n",
    "\n",
    "def test_model(documents, min_df=0):\n",
    "    vectorizer = TfidfVectorizer(ngram_range=(1, 1),\n",
    "                        min_df=min_df, max_df=1.0)\n",
    "    compressed_matrix = vectorizer.fit_transform(documents)\n",
    "    return compressed_matrix, vectorizer\n",
    "\n",
    "documents = [\"top top pokemon incredible\", \n",
    "             \"incredible\", \n",
    "             \"pictures pokemon\"]\n",
    "\n",
    "compressed_matrix, vectorizer = test_model(documents)\n",
    "print(compressed_matrix)"
   ]
  },
  {
   "cell_type": "markdown",
   "metadata": {},
   "source": [
    "Those tuples have the form (document_id, vocabulary_id), starting from 0 and a vocabulary is created and sorted."
   ]
  },
  {
   "cell_type": "code",
   "execution_count": 2,
   "metadata": {
    "collapsed": false
   },
   "outputs": [
    {
     "data": {
      "text/plain": [
       "['incredible', 'pictures', 'pokemon', 'top']"
      ]
     },
     "execution_count": 2,
     "metadata": {},
     "output_type": "execute_result"
    }
   ],
   "source": [
    "vectorizer.get_feature_names()"
   ]
  },
  {
   "cell_type": "code",
   "execution_count": 3,
   "metadata": {
    "collapsed": false,
    "scrolled": true
   },
   "outputs": [
    {
     "name": "stdout",
     "output_type": "stream",
     "text": [
      "[[ 0.3349067   0.          0.3349067   0.88072413]\n",
      " [ 1.          0.          0.          0.        ]\n",
      " [ 0.          0.79596054  0.60534851  0.        ]]\n"
     ]
    },
    {
     "data": {
      "text/plain": [
       "(3, 4)"
      ]
     },
     "execution_count": 3,
     "metadata": {},
     "output_type": "execute_result"
    }
   ],
   "source": [
    "X = compressed_matrix.toarray()\n",
    "print(X)\n",
    "X.shape"
   ]
  },
  {
   "cell_type": "markdown",
   "metadata": {},
   "source": [
    "## TF-IDF as a Feature Model\n",
    "\n",
    "Here I use CountVectorizer which counts every word (and then can be used with a Multinomial Naive Bayes for example) and TfidfTransformer which normalizes those countings separately.\n",
    "\n",
    "And we could also use n-gram features (a 2-gram is two words together) which allows the bag of words model to have some information about word ordering.\n",
    "\n",
    "`ngram_range=(self.ngram_min, self.ngram_max)`"
   ]
  },
  {
   "cell_type": "code",
   "execution_count": 4,
   "metadata": {
    "collapsed": true
   },
   "outputs": [],
   "source": [
    "from sklearn.feature_extraction.text import CountVectorizer, TfidfTransformer\n",
    "\n",
    "class TFIDFModel():\n",
    "    \"\"\"\n",
    "    TF-IDF model\n",
    "    \"\"\"\n",
    "\n",
    "    def __init__(self, ngram_min=1, ngram_max=1, min_df=0, max_df=1.0,\n",
    "                 tfidf=True, trace=False):\n",
    "        self.vectorizer = None\n",
    "        self.ngram_min = ngram_min\n",
    "        self.ngram_max = ngram_max\n",
    "        self.min_df = min_df\n",
    "        self.max_df = max_df\n",
    "        self.tfidf = tfidf\n",
    "        self.trace = trace\n",
    "        \n",
    "    def make_x(self, data):\n",
    "        \n",
    "        self.vectorizer = CountVectorizer(ngram_range=(self.ngram_min, self.ngram_max),\n",
    "                                          min_df=self.min_df, max_df=self.max_df)\n",
    "        if self.trace:\n",
    "            print(\"vocabulary: {}\".format(vectorizer.get_feature_names()))\n",
    "        \n",
    "        compressed_matrix = self.vectorizer.fit_transform(data)\n",
    "        if self.tfidf:\n",
    "            compressed_matrix = TfidfTransformer().fit_transform(compressed_matrix)\n",
    "        X = pd.DataFrame(compressed_matrix.toarray(), index=data.index)\n",
    "        return X\n",
    "    \n",
    "    def extract_features(self, data):\n",
    "        \n",
    "        return self.vectorizer.transform(data)"
   ]
  },
  {
   "cell_type": "markdown",
   "metadata": {},
   "source": [
    "**It receives a pandas Series**"
   ]
  },
  {
   "cell_type": "code",
   "execution_count": 5,
   "metadata": {
    "collapsed": false
   },
   "outputs": [
    {
     "data": {
      "text/plain": [
       "0    top top pokemon incredible\n",
       "1                    incredible\n",
       "2              pictures pokemon\n",
       "dtype: object"
      ]
     },
     "execution_count": 5,
     "metadata": {},
     "output_type": "execute_result"
    }
   ],
   "source": [
    "import pandas as pd\n",
    "docs = pd.Series(documents)\n",
    "docs"
   ]
  },
  {
   "cell_type": "markdown",
   "metadata": {},
   "source": [
    "**Counting**"
   ]
  },
  {
   "cell_type": "code",
   "execution_count": 6,
   "metadata": {
    "collapsed": false
   },
   "outputs": [
    {
     "name": "stdout",
     "output_type": "stream",
     "text": [
      "vocabulary: ['incredible', 'pictures', 'pokemon', 'top']\n"
     ]
    },
    {
     "data": {
      "text/html": [
       "<div>\n",
       "<table border=\"1\" class=\"dataframe\">\n",
       "  <thead>\n",
       "    <tr style=\"text-align: right;\">\n",
       "      <th></th>\n",
       "      <th>0</th>\n",
       "      <th>1</th>\n",
       "      <th>2</th>\n",
       "      <th>3</th>\n",
       "    </tr>\n",
       "  </thead>\n",
       "  <tbody>\n",
       "    <tr>\n",
       "      <th>0</th>\n",
       "      <td>1</td>\n",
       "      <td>0</td>\n",
       "      <td>1</td>\n",
       "      <td>2</td>\n",
       "    </tr>\n",
       "    <tr>\n",
       "      <th>1</th>\n",
       "      <td>1</td>\n",
       "      <td>0</td>\n",
       "      <td>0</td>\n",
       "      <td>0</td>\n",
       "    </tr>\n",
       "    <tr>\n",
       "      <th>2</th>\n",
       "      <td>0</td>\n",
       "      <td>1</td>\n",
       "      <td>1</td>\n",
       "      <td>0</td>\n",
       "    </tr>\n",
       "  </tbody>\n",
       "</table>\n",
       "</div>"
      ],
      "text/plain": [
       "   0  1  2  3\n",
       "0  1  0  1  2\n",
       "1  1  0  0  0\n",
       "2  0  1  1  0"
      ]
     },
     "execution_count": 6,
     "metadata": {},
     "output_type": "execute_result"
    }
   ],
   "source": [
    "tfidf_model = TFIDFModel(ngram_min=1, ngram_max=1, tfidf=False, trace=True)\n",
    "tfidf_model.make_x(docs)"
   ]
  },
  {
   "cell_type": "markdown",
   "metadata": {},
   "source": [
    "**Normalizing**"
   ]
  },
  {
   "cell_type": "code",
   "execution_count": 7,
   "metadata": {
    "collapsed": false
   },
   "outputs": [
    {
     "data": {
      "text/html": [
       "<div>\n",
       "<table border=\"1\" class=\"dataframe\">\n",
       "  <thead>\n",
       "    <tr style=\"text-align: right;\">\n",
       "      <th></th>\n",
       "      <th>0</th>\n",
       "      <th>1</th>\n",
       "      <th>2</th>\n",
       "      <th>3</th>\n",
       "    </tr>\n",
       "  </thead>\n",
       "  <tbody>\n",
       "    <tr>\n",
       "      <th>0</th>\n",
       "      <td>0.334907</td>\n",
       "      <td>0.000000</td>\n",
       "      <td>0.334907</td>\n",
       "      <td>0.880724</td>\n",
       "    </tr>\n",
       "    <tr>\n",
       "      <th>1</th>\n",
       "      <td>1.000000</td>\n",
       "      <td>0.000000</td>\n",
       "      <td>0.000000</td>\n",
       "      <td>0.000000</td>\n",
       "    </tr>\n",
       "    <tr>\n",
       "      <th>2</th>\n",
       "      <td>0.000000</td>\n",
       "      <td>0.795961</td>\n",
       "      <td>0.605349</td>\n",
       "      <td>0.000000</td>\n",
       "    </tr>\n",
       "  </tbody>\n",
       "</table>\n",
       "</div>"
      ],
      "text/plain": [
       "          0         1         2         3\n",
       "0  0.334907  0.000000  0.334907  0.880724\n",
       "1  1.000000  0.000000  0.000000  0.000000\n",
       "2  0.000000  0.795961  0.605349  0.000000"
      ]
     },
     "execution_count": 7,
     "metadata": {},
     "output_type": "execute_result"
    }
   ],
   "source": [
    "feature_model = TFIDFModel(ngram_min=1, ngram_max=1, min_df=0.2, max_df=0.7, tfidf=True, trace=False)\n",
    "feature_model.make_x(docs)"
   ]
  }
 ],
 "metadata": {
  "kernelspec": {
   "display_name": "Python 3",
   "language": "python",
   "name": "python3"
  },
  "language_info": {
   "codemirror_mode": {
    "name": "ipython",
    "version": 3
   },
   "file_extension": ".py",
   "mimetype": "text/x-python",
   "name": "python",
   "nbconvert_exporter": "python",
   "pygments_lexer": "ipython3",
   "version": "3.5.2"
  }
 },
 "nbformat": 4,
 "nbformat_minor": 1
}
