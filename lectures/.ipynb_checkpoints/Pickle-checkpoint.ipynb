{
 "cells": [
  {
   "cell_type": "markdown",
   "metadata": {},
   "source": [
    "## How to save a trained classifier or a feature model?\n",
    "\n",
    "Having trained a classifier, a final predictive model, it is a common practice to Pickle it. Cuz everytime you want to use it you don't want to go back and re-train it every single time.\n",
    "\n",
    "\"To Pickle\" means to save it to disk.\n",
    "\n",
    "It means to serialize a Python object and then be able to use it somewhere else. This object can be anything, in this case will be an estimator. "
   ]
  },
  {
   "cell_type": "code",
   "execution_count": 1,
   "metadata": {
    "collapsed": false
   },
   "outputs": [
    {
     "data": {
      "text/plain": [
       "SVC(C=1.0, cache_size=200, class_weight=None, coef0=0.0,\n",
       "  decision_function_shape=None, degree=3, gamma='auto', kernel='rbf',\n",
       "  max_iter=-1, probability=False, random_state=None, shrinking=True,\n",
       "  tol=0.001, verbose=False)"
      ]
     },
     "execution_count": 1,
     "metadata": {},
     "output_type": "execute_result"
    }
   ],
   "source": [
    "from sklearn import svm\n",
    "from sklearn import datasets\n",
    "clf = svm.SVC()\n",
    "iris = datasets.load_iris()\n",
    "X, y = iris.data, iris.target\n",
    "clf.fit(X, y)  "
   ]
  },
  {
   "cell_type": "code",
   "execution_count": 2,
   "metadata": {
    "collapsed": true
   },
   "outputs": [],
   "source": [
    "import pickle\n",
    "pickle_out = open(\"pickle/test_classifier.pkl\", \"wb\")\n",
    "pickle.dump(clf, pickle_out)\n",
    "pickle_out.close()"
   ]
  },
  {
   "cell_type": "markdown",
   "metadata": {},
   "source": [
    "Then I could open it like"
   ]
  },
  {
   "cell_type": "code",
   "execution_count": 3,
   "metadata": {
    "collapsed": false
   },
   "outputs": [
    {
     "data": {
      "text/plain": [
       "SVC(C=1.0, cache_size=200, class_weight=None, coef0=0.0,\n",
       "  decision_function_shape=None, degree=3, gamma='auto', kernel='rbf',\n",
       "  max_iter=-1, probability=False, random_state=None, shrinking=True,\n",
       "  tol=0.001, verbose=False)"
      ]
     },
     "execution_count": 3,
     "metadata": {},
     "output_type": "execute_result"
    }
   ],
   "source": [
    "pickle_in = open(\"pickle/test_classifier.pkl\", \"rb\")\n",
    "# This will load the object from the pickle\n",
    "pickled_classifier = pickle.load(pickle_in)\n",
    "pickle_in.close()\n",
    "\n",
    "pickled_classifier"
   ]
  },
  {
   "cell_type": "markdown",
   "metadata": {},
   "source": [
    "**Something similar could be done using joblib**\n",
    "\n",
    "But joblib is more efficient specially on objects that carry large numpy arrays internally."
   ]
  },
  {
   "cell_type": "code",
   "execution_count": 4,
   "metadata": {
    "collapsed": false
   },
   "outputs": [
    {
     "data": {
      "text/plain": [
       "['pickle/test_joblib_classifier.pkl',\n",
       " 'pickle/test_joblib_classifier.pkl_01.npy',\n",
       " 'pickle/test_joblib_classifier.pkl_02.npy',\n",
       " 'pickle/test_joblib_classifier.pkl_03.npy',\n",
       " 'pickle/test_joblib_classifier.pkl_04.npy',\n",
       " 'pickle/test_joblib_classifier.pkl_05.npy',\n",
       " 'pickle/test_joblib_classifier.pkl_06.npy',\n",
       " 'pickle/test_joblib_classifier.pkl_07.npy',\n",
       " 'pickle/test_joblib_classifier.pkl_08.npy',\n",
       " 'pickle/test_joblib_classifier.pkl_09.npy',\n",
       " 'pickle/test_joblib_classifier.pkl_10.npy',\n",
       " 'pickle/test_joblib_classifier.pkl_11.npy']"
      ]
     },
     "execution_count": 4,
     "metadata": {},
     "output_type": "execute_result"
    }
   ],
   "source": [
    "from sklearn.externals import joblib\n",
    "joblib.dump(clf, 'pickle/test_joblib_classifier.pkl') "
   ]
  },
  {
   "cell_type": "code",
   "execution_count": 5,
   "metadata": {
    "collapsed": true
   },
   "outputs": [],
   "source": [
    "clf = joblib.load('pickle/test_joblib_classifier.pkl') "
   ]
  },
  {
   "cell_type": "markdown",
   "metadata": {},
   "source": [
    "## Pickle a Pipeline\n",
    "\n",
    "Now, to pickle a pipeline is kind of similar"
   ]
  },
  {
   "cell_type": "code",
   "execution_count": 17,
   "metadata": {
    "collapsed": false,
    "scrolled": true
   },
   "outputs": [
    {
     "data": {
      "text/plain": [
       "Pipeline(steps=[('pca', PCA(copy=True, n_components=None, whiten=False)), ('svc', SVC(C=10, cache_size=200, class_weight=None, coef0=0.0,\n",
       "  decision_function_shape=None, degree=3, gamma='auto', kernel='rbf',\n",
       "  max_iter=-1, probability=False, random_state=None, shrinking=True,\n",
       "  tol=0.001, verbose=False))])"
      ]
     },
     "execution_count": 17,
     "metadata": {},
     "output_type": "execute_result"
    }
   ],
   "source": [
    "from sklearn.pipeline import Pipeline\n",
    "from sklearn.decomposition import PCA\n",
    "\n",
    "pipe = Pipeline([('pca', PCA()),\n",
    "                 ('svc', svm.SVC(C=10))])\n",
    "pipe.fit(X, y)"
   ]
  },
  {
   "cell_type": "code",
   "execution_count": 22,
   "metadata": {
    "collapsed": false
   },
   "outputs": [
    {
     "data": {
      "text/plain": [
       "['pickle/pipe.pkl',\n",
       " 'pickle/pipe.pkl_01.npy',\n",
       " 'pickle/pipe.pkl_02.npy',\n",
       " 'pickle/pipe.pkl_03.npy',\n",
       " 'pickle/pipe.pkl_04.npy',\n",
       " 'pickle/pipe.pkl_05.npy',\n",
       " 'pickle/pipe.pkl_06.npy',\n",
       " 'pickle/pipe.pkl_07.npy',\n",
       " 'pickle/pipe.pkl_08.npy',\n",
       " 'pickle/pipe.pkl_09.npy',\n",
       " 'pickle/pipe.pkl_10.npy',\n",
       " 'pickle/pipe.pkl_11.npy',\n",
       " 'pickle/pipe.pkl_12.npy',\n",
       " 'pickle/pipe.pkl_13.npy',\n",
       " 'pickle/pipe.pkl_14.npy',\n",
       " 'pickle/pipe.pkl_15.npy']"
      ]
     },
     "execution_count": 22,
     "metadata": {},
     "output_type": "execute_result"
    }
   ],
   "source": [
    "joblib.dump(pipe, 'pickle/pipe.pkl') "
   ]
  },
  {
   "cell_type": "code",
   "execution_count": 26,
   "metadata": {
    "collapsed": true
   },
   "outputs": [],
   "source": [
    "pipe_pickled = joblib.load('pickle/pipe.pkl') "
   ]
  },
  {
   "cell_type": "code",
   "execution_count": 27,
   "metadata": {
    "collapsed": false,
    "scrolled": true
   },
   "outputs": [
    {
     "name": "stdout",
     "output_type": "stream",
     "text": [
      "PCA(copy=True, n_components=None, whiten=False)\n",
      "SVC(C=10, cache_size=200, class_weight=None, coef0=0.0,\n",
      "  decision_function_shape=None, degree=3, gamma='auto', kernel='rbf',\n",
      "  max_iter=-1, probability=False, random_state=None, shrinking=True,\n",
      "  tol=0.001, verbose=False)\n"
     ]
    }
   ],
   "source": [
    "print(pipe_pickled.steps[0][1])\n",
    "print(pipe_pickled.steps[1][1])"
   ]
  }
 ],
 "metadata": {
  "kernelspec": {
   "display_name": "Python 3",
   "language": "python",
   "name": "python3"
  },
  "language_info": {
   "codemirror_mode": {
    "name": "ipython",
    "version": 3
   },
   "file_extension": ".py",
   "mimetype": "text/x-python",
   "name": "python",
   "nbconvert_exporter": "python",
   "pygments_lexer": "ipython3",
   "version": "3.5.2"
  }
 },
 "nbformat": 4,
 "nbformat_minor": 1
}
