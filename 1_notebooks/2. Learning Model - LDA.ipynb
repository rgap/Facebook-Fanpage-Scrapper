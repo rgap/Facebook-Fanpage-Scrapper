{
 "cells": [
  {
   "cell_type": "code",
   "execution_count": 1,
   "metadata": {
    "collapsed": false
   },
   "outputs": [
    {
     "data": {
      "text/plain": [
       "(9072, 29)"
      ]
     },
     "execution_count": 1,
     "metadata": {},
     "output_type": "execute_result"
    }
   ],
   "source": [
    "import numpy as np\n",
    "import pandas as pd\n",
    "import seaborn as sns\n",
    "import matplotlib.pyplot as plt\n",
    "%matplotlib inline\n",
    "sns.set(style='whitegrid', rc={\"grid.linewidth\": 0.1})\n",
    "sns.set_context(\"paper\")    \n",
    "y_labels = [\"love\", \"haha\", \"wow\", \"angry\", \"sad\"]\n",
    "\n",
    "dataset = pd.read_json(\"data/preprocessed.json\")\n",
    "dataset = dataset.reset_index(drop=True)\n",
    "dataset.shape"
   ]
  },
  {
   "cell_type": "markdown",
   "metadata": {},
   "source": [
    "## Model Selection"
   ]
  },
  {
   "cell_type": "markdown",
   "metadata": {},
   "source": [
    "### 1. Predictive Model: LDA + Linear SVC\n",
    "\n",
    "This one is still the bag of words approach. I know it's not useful when dealing with short size documents. \n",
    "\n",
    "There were several proposals on how to deal with this issue, and one of them is the BTM(Biterm Topic Model) proposed in 2013, and it's also a probabilistic graphical model like LDA. \n",
    "\n",
    "BTM takes a lot more time to process 9K samples and it may not find good features either.\n",
    "\n",
    "#### Hyperparameter Optimization\n",
    "\n",
    "I run the file using only one set of parameter `lda_linearsvc.py`, it would take more than 2 or 3 hours to find the best number of topics. I'll write down those parameters and its score.\n",
    "\n",
    "#### Score\n",
    "`\n",
    "best_params_: {'clf_C': 1.0, 'lda_num_topics': 1500, 'lda_iterations': 2000}\n",
    "best_score_: 0.6525909592061742\n",
    "`"
   ]
  },
  {
   "cell_type": "markdown",
   "metadata": {},
   "source": [
    "## Feature set in a 2D space\n",
    "\n",
    "![Image](notebook_figures/lda_2d.png)"
   ]
  },
  {
   "cell_type": "markdown",
   "metadata": {},
   "source": [
    "This image was created running\n",
    "\n",
    "`\n",
    "visualization/lda_2d.py\n",
    "`"
   ]
  }
 ],
 "metadata": {
  "kernelspec": {
   "display_name": "Python 3",
   "language": "python",
   "name": "python3"
  },
  "language_info": {
   "codemirror_mode": {
    "name": "ipython",
    "version": 3
   },
   "file_extension": ".py",
   "mimetype": "text/x-python",
   "name": "python",
   "nbconvert_exporter": "python",
   "pygments_lexer": "ipython3",
   "version": "3.5.2"
  }
 },
 "nbformat": 4,
 "nbformat_minor": 1
}
