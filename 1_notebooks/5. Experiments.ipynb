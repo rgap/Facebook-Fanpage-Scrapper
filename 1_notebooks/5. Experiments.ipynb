{
 "cells": [
  {
   "cell_type": "code",
   "execution_count": 1,
   "metadata": {
    "collapsed": false
   },
   "outputs": [],
   "source": [
    "import numpy as np\n",
    "import pandas as pd\n",
    "import seaborn as sns\n",
    "import matplotlib.pyplot as plt\n",
    "%matplotlib inline\n",
    "sns.set(style='whitegrid', rc={\"grid.linewidth\": 0.1})\n",
    "sns.set_context(\"paper\")\n",
    "y_labels = [\"love\", \"haha\", \"wow\", \"angry\", \"sad\"]\n",
    "actual_reactions_list = [\"fb_love\", \"fb_haha\", \"fb_wow\", \"fb_angry\", \"fb_sad\"]\n",
    "\n",
    "reaction_class = {\n",
    "    \"fb_love\": 0, \n",
    "    \"fb_haha\": 1,\n",
    "    \"fb_wow\": 2,\n",
    "    \"fb_angry\": 3,\n",
    "    \"fb_sad\": 4\n",
    "}\n",
    "\n",
    "# Raw dataset\n",
    "import json\n",
    "db_json_filename = \"data/facebook_pages_data.json\"\n",
    "dataset = pd.read_json(db_json_filename)"
   ]
  },
  {
   "cell_type": "code",
   "execution_count": 2,
   "metadata": {
    "collapsed": true
   },
   "outputs": [],
   "source": [
    "from sklearn.externals import joblib\n",
    "clf = joblib.load('output/final_model.pkl')\n",
    "clf_prob = joblib.load('output/final_model_prob.pkl')"
   ]
  },
  {
   "cell_type": "markdown",
   "metadata": {},
   "source": [
    "## Preprocessing Function\n",
    "\n",
    "This function certainly has to be optimized for production."
   ]
  },
  {
   "cell_type": "code",
   "execution_count": 3,
   "metadata": {
    "collapsed": true
   },
   "outputs": [],
   "source": [
    "def preprocess_text(text):\n",
    "    import nltk\n",
    "    import json\n",
    "    import re\n",
    "    from nltk.tokenize import RegexpTokenizer\n",
    "    from unidecode import unidecode\n",
    "    \n",
    "    def tokenize(text):\n",
    "        pattern = r\"\"\"(?x)                    # set flag to allow verbose regexps\n",
    "              (?:[a-zA-Z]\\.)+                 # abbreviations, e.g. U.S.A.\n",
    "              |[a-zA-Z]+(?:[-'*][a-zA-Z]+)*   # words w/ optional internal hyphens/apostrophe\n",
    "            \"\"\"\n",
    "        text = text.lower()\n",
    "        # Tokenize words without punctuation\n",
    "        tokenizer = nltk.RegexpTokenizer(pattern)\n",
    "        return tokenizer.tokenize(text)\n",
    "    \n",
    "    def special(text):\n",
    "        text = text.split(\"|\")[0]\n",
    "        text = re.sub(\"[\\(].*?[\\)]\", \"\", text)\n",
    "        return text\n",
    "    \n",
    "    bad_words_path = \"resources/bad_words.json\"  \n",
    "    with open(bad_words_path, \"r\") as file:\n",
    "        bad_words = json.loads(file.read())\n",
    "\n",
    "    def censor(word):\n",
    "        for bad_word in bad_words.keys():\n",
    "            if bad_word in word:\n",
    "                #word = word.replace(bad_word, bad_words[bad_word], 1)\n",
    "                word = bad_words[bad_word]\n",
    "        return word\n",
    "    \n",
    "    def tokenize_bad_words(tokens):\n",
    "        tokens = [censor(word) for word in tokens]    \n",
    "        return tokens\n",
    "    \n",
    "    contractions_path = \"resources/contractions.json\"  \n",
    "    with open(contractions_path, \"r\") as file:\n",
    "        contractions = json.loads(file.read())\n",
    "\n",
    "    def separate_contraction(word):\n",
    "        for contraction in contractions.keys():\n",
    "            if contraction in word:\n",
    "                #word = word.replace(bad_word, bad_words[bad_word], 1)\n",
    "                word = contractions[contraction]\n",
    "        return word.split()\n",
    "\n",
    "    def tokenize_contractions(tokens):\n",
    "        output = []\n",
    "        for word in tokens:\n",
    "            output.extend(separate_contraction(word))\n",
    "        return output\n",
    "    \n",
    "    stopwords = nltk.corpus.stopwords.words('english')\n",
    "    special_stopwords_path = \"resources/special_stopwords.txt\"  \n",
    "    with open(special_stopwords_path, \"r\") as file:\n",
    "        special_stopwords = file.read().splitlines()\n",
    "\n",
    "    from nltk.stem import WordNetLemmatizer\n",
    "    wordnet_lemmatizer = WordNetLemmatizer()\n",
    "\n",
    "    from nltk.stem.snowball import SnowballStemmer\n",
    "    stemmer = SnowballStemmer(\"english\")\n",
    "\n",
    "    def tokenize_stem_stopwords(tokens):\n",
    "        tokens = [word for word in tokens if (word not in stopwords and word not in special_stopwords)]\n",
    "        short_tokens = [wordnet_lemmatizer.lemmatize(t) for t in tokens]\n",
    "        short_tokens = [stemmer.stem(t) for t in short_tokens]\n",
    "        return short_tokens\n",
    "    \n",
    "    return \" \".join(tokenize_stem_stopwords(\n",
    "                        tokenize_contractions(\n",
    "                            tokenize_bad_words(\n",
    "                                tokenize(unidecode(special(text)))))))"
   ]
  },
  {
   "cell_type": "code",
   "execution_count": 4,
   "metadata": {
    "collapsed": true
   },
   "outputs": [],
   "source": [
    "def preprocess(array):\n",
    "    return [preprocess_text(text) for text in array]"
   ]
  },
  {
   "cell_type": "markdown",
   "metadata": {},
   "source": [
    "## Trying with some headlines"
   ]
  },
  {
   "cell_type": "code",
   "execution_count": 5,
   "metadata": {
    "collapsed": false
   },
   "outputs": [],
   "source": [
    "def make_yprob(y_probabilities):\n",
    "    array_yprobs = []\n",
    "    for probabilities in y_probabilities:\n",
    "        string_probs = \"\"\n",
    "        i = 1\n",
    "        for y_prob, y_label in sorted(zip(probabilities, y_labels), reverse=True):\n",
    "            if isinstance(y_prob, int) or isinstance(y_prob, np.int64):\n",
    "                string_probs += \"{}:{}\".format(y_label, y_prob)\n",
    "            else:\n",
    "                string_probs += \"{}:{:.3}\".format(y_label, y_prob)\n",
    "            if i != 5:\n",
    "                string_probs += \", \"\n",
    "            i += 1\n",
    "        array_yprobs.append(string_probs)\n",
    "    return array_yprobs\n",
    "\n",
    "def id_to_label(y_ids):\n",
    "    return [y_labels[y_id] for y_id in y_ids]"
   ]
  },
  {
   "cell_type": "code",
   "execution_count": 38,
   "metadata": {
    "collapsed": false,
    "scrolled": true
   },
   "outputs": [],
   "source": [
    "headlines = [\"Justin Bieber is dead\",\n",
    "             \"Isis has nothing to do with islam\",\n",
    "             \"killed\",\n",
    "             \"justin\",\n",
    "             \"top 10 movies\",\n",
    "             \"This Teen Applied A Facemask For The First Time And Instantly Regretted It\",\n",
    "             \"Millions Of Honey Bees Killed Accidentally By Zika Mosquito Spray\",\n",
    "             \"World's Largest Primate Now Considered 'Critically Endangered'\"]\n",
    "\n",
    "headlines_prep = preprocess(headlines)\n",
    "y_pred = clf.predict(headlines_prep)\n",
    "y_prob = clf_prob.predict_proba(headlines_prep)"
   ]
  },
  {
   "cell_type": "code",
   "execution_count": 39,
   "metadata": {
    "collapsed": false,
    "scrolled": false
   },
   "outputs": [
    {
     "data": {
      "text/html": [
       "<div>\n",
       "<table border=\"1\" class=\"dataframe\">\n",
       "  <thead>\n",
       "    <tr style=\"text-align: right;\">\n",
       "      <th></th>\n",
       "      <th>Headline</th>\n",
       "      <th>$y_{pred}$</th>\n",
       "      <th>$y_{prob}$</th>\n",
       "    </tr>\n",
       "  </thead>\n",
       "  <tbody>\n",
       "    <tr>\n",
       "      <th>0</th>\n",
       "      <td>Justin Bieber is dead</td>\n",
       "      <td>haha</td>\n",
       "      <td>haha:0.61, sad:0.375, angry:0.0141, wow:0.0, love:0.0</td>\n",
       "    </tr>\n",
       "    <tr>\n",
       "      <th>1</th>\n",
       "      <td>Isis has nothing to do with islam</td>\n",
       "      <td>angry</td>\n",
       "      <td>angry:0.757, haha:0.243, wow:0.0, sad:0.0, love:0.0</td>\n",
       "    </tr>\n",
       "    <tr>\n",
       "      <th>2</th>\n",
       "      <td>killed</td>\n",
       "      <td>sad</td>\n",
       "      <td>sad:0.867, angry:0.133, wow:0.0, love:0.0, haha:0.0</td>\n",
       "    </tr>\n",
       "    <tr>\n",
       "      <th>3</th>\n",
       "      <td>justin</td>\n",
       "      <td>haha</td>\n",
       "      <td>haha:0.625, love:0.262, angry:0.113, wow:0.0, sad:0.0</td>\n",
       "    </tr>\n",
       "    <tr>\n",
       "      <th>4</th>\n",
       "      <td>top 10 movies</td>\n",
       "      <td>love</td>\n",
       "      <td>love:0.956, haha:0.0246, angry:0.0198, wow:0.0, sad:0.0</td>\n",
       "    </tr>\n",
       "    <tr>\n",
       "      <th>5</th>\n",
       "      <td>This Teen Applied A Facemask For The First Time And Instantly Regretted It</td>\n",
       "      <td>haha</td>\n",
       "      <td>haha:0.701, love:0.299, wow:0.0, sad:0.0, angry:0.0</td>\n",
       "    </tr>\n",
       "    <tr>\n",
       "      <th>6</th>\n",
       "      <td>Millions Of Honey Bees Killed Accidentally By Zika Mosquito Spray</td>\n",
       "      <td>sad</td>\n",
       "      <td>sad:0.453, haha:0.431, wow:0.116, love:0.0, angry:0.0</td>\n",
       "    </tr>\n",
       "    <tr>\n",
       "      <th>7</th>\n",
       "      <td>World's Largest Primate Now Considered 'Critically Endangered'</td>\n",
       "      <td>love</td>\n",
       "      <td>sad:0.645, wow:0.17, love:0.152, haha:0.032, angry:0.0</td>\n",
       "    </tr>\n",
       "  </tbody>\n",
       "</table>\n",
       "</div>"
      ],
      "text/plain": [
       "                                                                     Headline  \\\n",
       "0                                                       Justin Bieber is dead   \n",
       "1                                           Isis has nothing to do with islam   \n",
       "2                                                                      killed   \n",
       "3                                                                      justin   \n",
       "4                                                               top 10 movies   \n",
       "5  This Teen Applied A Facemask For The First Time And Instantly Regretted It   \n",
       "6           Millions Of Honey Bees Killed Accidentally By Zika Mosquito Spray   \n",
       "7              World's Largest Primate Now Considered 'Critically Endangered'   \n",
       "\n",
       "  $y_{pred}$                                               $y_{prob}$  \n",
       "0       haha    haha:0.61, sad:0.375, angry:0.0141, wow:0.0, love:0.0  \n",
       "1      angry      angry:0.757, haha:0.243, wow:0.0, sad:0.0, love:0.0  \n",
       "2        sad      sad:0.867, angry:0.133, wow:0.0, love:0.0, haha:0.0  \n",
       "3       haha    haha:0.625, love:0.262, angry:0.113, wow:0.0, sad:0.0  \n",
       "4       love  love:0.956, haha:0.0246, angry:0.0198, wow:0.0, sad:0.0  \n",
       "5       haha      haha:0.701, love:0.299, wow:0.0, sad:0.0, angry:0.0  \n",
       "6        sad    sad:0.453, haha:0.431, wow:0.116, love:0.0, angry:0.0  \n",
       "7       love   sad:0.645, wow:0.17, love:0.152, haha:0.032, angry:0.0  "
      ]
     },
     "execution_count": 39,
     "metadata": {},
     "output_type": "execute_result"
    }
   ],
   "source": [
    "pd.set_option('display.max_colwidth', 200)\n",
    "\n",
    "d = {\"Headline\": headlines,\n",
    "     \"$y_{pred}$\": id_to_label(y_pred),\n",
    "     \"$y_{prob}$\": make_yprob(y_prob)\n",
    "     }\n",
    "\n",
    "table_test = pd.DataFrame(data=d, columns=[\"Headline\", \"$y_{pred}$\", \"$y_{prob}$\"])\n",
    "\n",
    "table_file = open(\"notebook_figures/{}.tex\".format(\"table_test\"), \"w\")\n",
    "table_file.write(table_test.to_latex(index=False))\n",
    "table_file.close()\n",
    "table_test"
   ]
  },
  {
   "cell_type": "markdown",
   "metadata": {},
   "source": [
    "## Test data\n",
    "\n",
    "Testing with unseen data from August 29th to September 4th."
   ]
  },
  {
   "cell_type": "code",
   "execution_count": 8,
   "metadata": {
    "collapsed": false,
    "scrolled": true
   },
   "outputs": [],
   "source": [
    "def slice_dataset(df, start_time, end_time):\n",
    "    return df[(df['time_created'] >= start_time) & (df['time_created'] <= end_time)]\n",
    "\n",
    "dataset_test = slice_dataset(dataset, \"2016-08-29\", \"2016-09-04\")"
   ]
  },
  {
   "cell_type": "markdown",
   "metadata": {},
   "source": [
    "Adding the highest reaction column"
   ]
  },
  {
   "cell_type": "code",
   "execution_count": 9,
   "metadata": {
    "collapsed": false
   },
   "outputs": [
    {
     "name": "stderr",
     "output_type": "stream",
     "text": [
      "/Users/rgap/.virtualenvs/vfanpage/lib/python3.5/site-packages/pandas/core/indexing.py:288: SettingWithCopyWarning: \n",
      "A value is trying to be set on a copy of a slice from a DataFrame.\n",
      "Try using .loc[row_indexer,col_indexer] = value instead\n",
      "\n",
      "See the caveats in the documentation: http://pandas.pydata.org/pandas-docs/stable/indexing.html#indexing-view-versus-copy\n",
      "  self.obj[key] = _infer_fill_value(value)\n",
      "/Users/rgap/.virtualenvs/vfanpage/lib/python3.5/site-packages/pandas/core/indexing.py:465: SettingWithCopyWarning: \n",
      "A value is trying to be set on a copy of a slice from a DataFrame.\n",
      "Try using .loc[row_indexer,col_indexer] = value instead\n",
      "\n",
      "See the caveats in the documentation: http://pandas.pydata.org/pandas-docs/stable/indexing.html#indexing-view-versus-copy\n",
      "  self.obj[item] = s\n"
     ]
    }
   ],
   "source": [
    "def highest_reaction(dataframe_row):\n",
    "    reactions_row = dataframe_row[actual_reactions_list]\n",
    "    reactions_row.sort_values(ascending=False, inplace=True)\n",
    "    total_reactions = reactions_row.sum()\n",
    "    \n",
    "    max_reaction = reactions_row.index[0]\n",
    "    max_votes = reactions_row.max()\n",
    "    reaction_id = reaction_class[max_reaction]\n",
    "    if total_reactions > 100:\n",
    "        return reaction_id\n",
    "    return None\n",
    "\n",
    "function = highest_reaction\n",
    "dataset_test.loc[:,function.__name__] = dataset_test.apply(lambda x: function(x), axis=1)"
   ]
  },
  {
   "cell_type": "code",
   "execution_count": 10,
   "metadata": {
    "collapsed": false
   },
   "outputs": [
    {
     "name": "stderr",
     "output_type": "stream",
     "text": [
      "/Users/rgap/.virtualenvs/vfanpage/lib/python3.5/site-packages/pandas/core/indexing.py:288: SettingWithCopyWarning: \n",
      "A value is trying to be set on a copy of a slice from a DataFrame.\n",
      "Try using .loc[row_indexer,col_indexer] = value instead\n",
      "\n",
      "See the caveats in the documentation: http://pandas.pydata.org/pandas-docs/stable/indexing.html#indexing-view-versus-copy\n",
      "  self.obj[key] = _infer_fill_value(value)\n",
      "/Users/rgap/.virtualenvs/vfanpage/lib/python3.5/site-packages/pandas/core/indexing.py:465: SettingWithCopyWarning: \n",
      "A value is trying to be set on a copy of a slice from a DataFrame.\n",
      "Try using .loc[row_indexer,col_indexer] = value instead\n",
      "\n",
      "See the caveats in the documentation: http://pandas.pydata.org/pandas-docs/stable/indexing.html#indexing-view-versus-copy\n",
      "  self.obj[item] = s\n"
     ]
    }
   ],
   "source": [
    "reactions_list = [\"fb_like\"] + actual_reactions_list\n",
    "\n",
    "def fb_total_reactions(dataframe_row):\n",
    "    return sum(dataframe_row[r] for r in reactions_list)\n",
    "\n",
    "function = fb_total_reactions\n",
    "dataset_test.loc[:,function.__name__] = dataset_test.apply(lambda x: function(x), axis=1)"
   ]
  },
  {
   "cell_type": "code",
   "execution_count": 11,
   "metadata": {
    "collapsed": false
   },
   "outputs": [],
   "source": [
    "def remove_no_reaction(df):\n",
    "    tmp = df[(df['highest_reaction'].notnull())]\n",
    "    return tmp[tmp['fb_total_reactions'] >= 200]\n",
    "    \n",
    "dataset_test = remove_no_reaction(dataset_test)\n",
    "dataset_test.loc[:,\"highest_reaction\"] = dataset_test.loc[:,\"highest_reaction\"].astype(int)"
   ]
  },
  {
   "cell_type": "markdown",
   "metadata": {},
   "source": [
    "**Taking a random sample**"
   ]
  },
  {
   "cell_type": "code",
   "execution_count": 12,
   "metadata": {
    "collapsed": false
   },
   "outputs": [],
   "source": [
    "random_sample = dataset_test.sample(8, random_state=123)\n",
    "headlines = random_sample[\"name\"]"
   ]
  },
  {
   "cell_type": "code",
   "execution_count": 13,
   "metadata": {
    "collapsed": false
   },
   "outputs": [],
   "source": [
    "headlines_prep = preprocess(headlines)\n",
    "y_true = random_sample[actual_reactions_list].as_matrix()\n",
    "y_pred = clf.predict(headlines_prep)\n",
    "y_prob = clf_prob.predict_proba(headlines_prep)"
   ]
  },
  {
   "cell_type": "code",
   "execution_count": 14,
   "metadata": {
    "collapsed": false,
    "scrolled": false
   },
   "outputs": [
    {
     "data": {
      "text/html": [
       "<div>\n",
       "<table border=\"1\" class=\"dataframe\">\n",
       "  <thead>\n",
       "    <tr style=\"text-align: right;\">\n",
       "      <th></th>\n",
       "      <th>Headline</th>\n",
       "      <th>$y_{pred}$</th>\n",
       "      <th>$y_{prob}$</th>\n",
       "      <th>$y_{true}$</th>\n",
       "    </tr>\n",
       "  </thead>\n",
       "  <tbody>\n",
       "    <tr>\n",
       "      <th>32699</th>\n",
       "      <td>Huma Abedin And Anthony Weiner Are Separating</td>\n",
       "      <td>haha</td>\n",
       "      <td>haha:0.519, sad:0.24, love:0.195, angry:0.0461, wow:0.0</td>\n",
       "      <td>haha:86, sad:77, love:38, wow:34, angry:4</td>\n",
       "    </tr>\n",
       "    <tr>\n",
       "      <th>12265</th>\n",
       "      <td>Apartment complex warns residents about clown trying to lure kids into woods</td>\n",
       "      <td>sad</td>\n",
       "      <td>sad:0.567, haha:0.19, love:0.171, wow:0.0712, angry:0.0</td>\n",
       "      <td>wow:1571, angry:770, sad:66, haha:58, love:28</td>\n",
       "    </tr>\n",
       "    <tr>\n",
       "      <th>5437</th>\n",
       "      <td>California Lawmakers Pass Bill Requiring Prison Sentence After Stanford Sex Assault Case</td>\n",
       "      <td>angry</td>\n",
       "      <td>angry:0.771, love:0.229, wow:0.0, sad:0.0, haha:0.0</td>\n",
       "      <td>love:1958, angry:751, wow:48, sad:42, haha:6</td>\n",
       "    </tr>\n",
       "    <tr>\n",
       "      <th>56041</th>\n",
       "      <td>Triumphant Tarantula Survives Being Eaten By Toad</td>\n",
       "      <td>sad</td>\n",
       "      <td>sad:0.357, haha:0.303, love:0.227, wow:0.114, angry:0.0</td>\n",
       "      <td>wow:1388, haha:382, love:156, sad:15, angry:5</td>\n",
       "    </tr>\n",
       "    <tr>\n",
       "      <th>12170</th>\n",
       "      <td>Scientists discover oldest fossils on Earth</td>\n",
       "      <td>wow</td>\n",
       "      <td>wow:0.996, sad:0.00439, love:0.0, haha:0.0, angry:0.0</td>\n",
       "      <td>wow:189, love:60, haha:15, sad:2, angry:2</td>\n",
       "    </tr>\n",
       "    <tr>\n",
       "      <th>48</th>\n",
       "      <td>Wilderness Expert Finds A Giant Black Slug Which Is Way Bigger And Cooler Than You Thought | 9GAG.tv</td>\n",
       "      <td>haha</td>\n",
       "      <td>haha:0.527, wow:0.445, angry:0.0285, sad:0.0, love:0.0</td>\n",
       "      <td>wow:837, love:169, haha:144, sad:14, angry:1</td>\n",
       "    </tr>\n",
       "    <tr>\n",
       "      <th>12268</th>\n",
       "      <td>Georgia teacher dreams up dice game about slavery. It didn't go well.</td>\n",
       "      <td>love</td>\n",
       "      <td>love:0.855, haha:0.142, wow:0.00315, sad:0.0, angry:0.0</td>\n",
       "      <td>angry:107, wow:96, haha:42, love:9, sad:7</td>\n",
       "    </tr>\n",
       "    <tr>\n",
       "      <th>32579</th>\n",
       "      <td>Latino Trump Supporter Warns Of 'Taco Trucks On Every Corner'</td>\n",
       "      <td>haha</td>\n",
       "      <td>haha:0.486, love:0.238, angry:0.198, sad:0.0773, wow:0.0</td>\n",
       "      <td>haha:1524, love:231, wow:52, angry:30, sad:4</td>\n",
       "    </tr>\n",
       "  </tbody>\n",
       "</table>\n",
       "</div>"
      ],
      "text/plain": [
       "                                                                                                   Headline  \\\n",
       "32699                                                         Huma Abedin And Anthony Weiner Are Separating   \n",
       "12265                          Apartment complex warns residents about clown trying to lure kids into woods   \n",
       "5437               California Lawmakers Pass Bill Requiring Prison Sentence After Stanford Sex Assault Case   \n",
       "56041                                                     Triumphant Tarantula Survives Being Eaten By Toad   \n",
       "12170                                                           Scientists discover oldest fossils on Earth   \n",
       "48     Wilderness Expert Finds A Giant Black Slug Which Is Way Bigger And Cooler Than You Thought | 9GAG.tv   \n",
       "12268                                 Georgia teacher dreams up dice game about slavery. It didn't go well.   \n",
       "32579                                         Latino Trump Supporter Warns Of 'Taco Trucks On Every Corner'   \n",
       "\n",
       "      $y_{pred}$                                                $y_{prob}$  \\\n",
       "32699       haha   haha:0.519, sad:0.24, love:0.195, angry:0.0461, wow:0.0   \n",
       "12265        sad   sad:0.567, haha:0.19, love:0.171, wow:0.0712, angry:0.0   \n",
       "5437       angry       angry:0.771, love:0.229, wow:0.0, sad:0.0, haha:0.0   \n",
       "56041        sad   sad:0.357, haha:0.303, love:0.227, wow:0.114, angry:0.0   \n",
       "12170        wow     wow:0.996, sad:0.00439, love:0.0, haha:0.0, angry:0.0   \n",
       "48          haha    haha:0.527, wow:0.445, angry:0.0285, sad:0.0, love:0.0   \n",
       "12268       love   love:0.855, haha:0.142, wow:0.00315, sad:0.0, angry:0.0   \n",
       "32579       haha  haha:0.486, love:0.238, angry:0.198, sad:0.0773, wow:0.0   \n",
       "\n",
       "                                          $y_{true}$  \n",
       "32699      haha:86, sad:77, love:38, wow:34, angry:4  \n",
       "12265  wow:1571, angry:770, sad:66, haha:58, love:28  \n",
       "5437    love:1958, angry:751, wow:48, sad:42, haha:6  \n",
       "56041  wow:1388, haha:382, love:156, sad:15, angry:5  \n",
       "12170      wow:189, love:60, haha:15, sad:2, angry:2  \n",
       "48      wow:837, love:169, haha:144, sad:14, angry:1  \n",
       "12268      angry:107, wow:96, haha:42, love:9, sad:7  \n",
       "32579   haha:1524, love:231, wow:52, angry:30, sad:4  "
      ]
     },
     "execution_count": 14,
     "metadata": {},
     "output_type": "execute_result"
    }
   ],
   "source": [
    "d = {\"Headline\": headlines,\n",
    "     \"$y_{true}$\": make_yprob(y_true),\n",
    "     \"$y_{pred}$\": id_to_label(y_pred),\n",
    "     \"$y_{prob}$\": make_yprob(y_prob)\n",
    "     }\n",
    "\n",
    "table_sample = pd.DataFrame(data=d, columns=[\"Headline\", \"$y_{pred}$\", \"$y_{prob}$\", \"$y_{true}$\"])\n",
    "table_file = open(\"notebook_figures/{}.tex\".format(\"table_sample\"), \"w\")\n",
    "table_file.write(table_sample.to_latex(index=False))\n",
    "table_file.close()\n",
    "table_sample"
   ]
  },
  {
   "cell_type": "markdown",
   "metadata": {},
   "source": [
    "## Confusion Matrix\n",
    "\n",
    "To see what kind of headlines are being missclassified."
   ]
  },
  {
   "cell_type": "code",
   "execution_count": 15,
   "metadata": {
    "collapsed": true
   },
   "outputs": [],
   "source": [
    "from sklearn.metrics import confusion_matrix\n",
    "\n",
    "def plot_confusion_matrix(cm, labels, title='Confusion matrix', cmap=plt.cm.Blues):\n",
    "    plt.figure()\n",
    "    plt.imshow(cm, interpolation='nearest', cmap=cmap)\n",
    "    plt.title(title, fontsize=14)\n",
    "    cbar = plt.colorbar()\n",
    "    cbar.ax.tick_params(labelsize=10) \n",
    "    tick_marks = np.arange(len(labels))\n",
    "    plt.xticks(tick_marks, labels, rotation=45, fontsize=12)\n",
    "    plt.yticks(tick_marks, labels, fontsize=12)\n",
    "    plt.tight_layout()\n",
    "    plt.ylabel('True label', fontsize=14)\n",
    "    plt.xlabel('Predicted label', fontsize=14)\n",
    "    \n",
    "    plt.savefig('notebook_figures/{}.pdf'.format(\"conf\"),\n",
    "                bbox_inches='tight')\n",
    "    plt.show()"
   ]
  },
  {
   "cell_type": "code",
   "execution_count": 16,
   "metadata": {
    "collapsed": false
   },
   "outputs": [],
   "source": [
    "y_true = dataset_test[\"highest_reaction\"]\n",
    "y_pred = clf.predict(preprocess(dataset_test[\"name\"]))"
   ]
  },
  {
   "cell_type": "code",
   "execution_count": 17,
   "metadata": {
    "collapsed": false
   },
   "outputs": [
    {
     "data": {
      "image/png": "[encoded data removed]",
      "text/plain": [
       "<matplotlib.figure.Figure at 0x10b43e438>"
      ]
     },
     "metadata": {},
     "output_type": "display_data"
    }
   ],
   "source": [
    "cm = confusion_matrix(y_true, y_pred)\n",
    "cm_normalized = cm.astype('float') / cm.sum(axis=1)[:, np.newaxis]\n",
    "\n",
    "plot_confusion_matrix(cm_normalized, labels=y_labels, title='Normalized confusion matrix')"
   ]
  }
 ],
 "metadata": {
  "kernelspec": {
   "display_name": "Python 3",
   "language": "python",
   "name": "python3"
  },
  "language_info": {
   "codemirror_mode": {
    "name": "ipython",
    "version": 3
   },
   "file_extension": ".py",
   "mimetype": "text/x-python",
   "name": "python",
   "nbconvert_exporter": "python",
   "pygments_lexer": "ipython3",
   "version": "3.5.2"
  }
 },
 "nbformat": 4,
 "nbformat_minor": 1
}
