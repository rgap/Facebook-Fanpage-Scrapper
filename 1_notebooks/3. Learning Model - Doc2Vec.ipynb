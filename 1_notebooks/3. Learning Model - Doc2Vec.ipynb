{
 "cells": [
  {
   "cell_type": "code",
   "execution_count": 1,
   "metadata": {
    "collapsed": false,
    "scrolled": false
   },
   "outputs": [
    {
     "data": {
      "text/plain": [
       "(9072, 29)"
      ]
     },
     "execution_count": 1,
     "metadata": {},
     "output_type": "execute_result"
    }
   ],
   "source": [
    "import numpy as np\n",
    "import pandas as pd\n",
    "import seaborn as sns\n",
    "import matplotlib.pyplot as plt\n",
    "%matplotlib inline\n",
    "sns.set(style='whitegrid', rc={\"grid.linewidth\": 0.1})\n",
    "sns.set_context(\"paper\")    \n",
    "y_labels = [\"love\", \"haha\", \"wow\", \"angry\", \"sad\"]\n",
    "\n",
    "dataset = pd.read_json(\"data/preprocessed.json\")\n",
    "dataset = dataset.reset_index(drop=True)\n",
    "dataset.shape"
   ]
  },
  {
   "cell_type": "markdown",
   "metadata": {},
   "source": [
    "## Model Selection"
   ]
  },
  {
   "cell_type": "markdown",
   "metadata": {
    "collapsed": true
   },
   "source": [
    "### 1. Predictive Model: Doc2Vec + Linear SVC\n",
    "\n",
    "This one is a different approach. It's suppose to represent the documents better than BoW.\n",
    "\n",
    "#### Hyperparameter Optimization\n",
    "\n",
    "I run the file using only one set of parameter `doc2vec_linearsvc.py`.\n",
    "\n",
    "#### Score\n",
    "\n",
    "`\n",
    "best_params_: {'doc2vec_min_count': 2, 'clf_C': 1, 'doc2vec_size': 400}\n",
    "best_score_: 0.4278941565600882\n",
    "`"
   ]
  },
  {
   "cell_type": "markdown",
   "metadata": {},
   "source": [
    "## Feature set in a 2D space\n",
    "\n",
    "![Image](notebook_figures/doc2vec_2d.png)"
   ]
  },
  {
   "cell_type": "markdown",
   "metadata": {},
   "source": [
    "This image was created running\n",
    "\n",
    "`\n",
    "visualization/doc2vec_2d.py\n",
    "`"
   ]
  }
 ],
 "metadata": {
  "anaconda-cloud": {},
  "kernelspec": {
   "display_name": "Python 3",
   "language": "python",
   "name": "python3"
  },
  "language_info": {
   "codemirror_mode": {
    "name": "ipython",
    "version": 3
   },
   "file_extension": ".py",
   "mimetype": "text/x-python",
   "name": "python",
   "nbconvert_exporter": "python",
   "pygments_lexer": "ipython3",
   "version": "3.5.2"
  }
 },
 "nbformat": 4,
 "nbformat_minor": 0
}
