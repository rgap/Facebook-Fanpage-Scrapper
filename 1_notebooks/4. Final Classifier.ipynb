{
 "cells": [
  {
   "cell_type": "code",
   "execution_count": 6,
   "metadata": {
    "collapsed": false,
    "scrolled": false
   },
   "outputs": [
    {
     "data": {
      "text/plain": [
       "(9072, 29)"
      ]
     },
     "execution_count": 6,
     "metadata": {},
     "output_type": "execute_result"
    }
   ],
   "source": [
    "import numpy as np\n",
    "import pandas as pd\n",
    "import seaborn as sns\n",
    "import matplotlib.pyplot as plt\n",
    "%matplotlib inline\n",
    "sns.set(style='whitegrid', rc={\"grid.linewidth\": 0.1})\n",
    "sns.set_context(\"paper\")\n",
    "y_labels = [\"love\", \"haha\", \"wow\", \"angry\", \"sad\"]\n",
    "\n",
    "dataset = pd.read_json(\"data/preprocessed.json\")\n",
    "dataset = dataset.reset_index(drop=True)\n",
    "dataset.shape"
   ]
  },
  {
   "cell_type": "markdown",
   "metadata": {},
   "source": [
    "## Notes\n",
    "\n",
    "- We found that a simple classifier could deal with the problem of predicting a reaction. At least 7 out of 10 headlines will be correctly classified.\n",
    "- I would again like to point out that this predictive model will serve as a benchmark for future works."
   ]
  },
  {
   "cell_type": "markdown",
   "metadata": {},
   "source": [
    "## Final Classifier"
   ]
  },
  {
   "cell_type": "markdown",
   "metadata": {},
   "source": [
    "**This one won't give the vector of probability estimates $P(y|x)$**"
   ]
  },
  {
   "cell_type": "code",
   "execution_count": 15,
   "metadata": {
    "collapsed": false
   },
   "outputs": [],
   "source": [
    "from sklearn.feature_extraction.text import CountVectorizer, TfidfTransformer\n",
    "from sklearn import svm\n",
    "from sklearn.pipeline import Pipeline\n",
    "\n",
    "params = {'vect__ngram_range': (1, 2), 'tfidf__use_idf': True,\n",
    "          'clf__C': 0.29999999999999999, 'vect__min_df': 2, 'vect__max_df': 1.0}\n",
    "\n",
    "vectorizer = CountVectorizer(ngram_range=params['vect__ngram_range'],\n",
    "                             min_df=params['vect__min_df'], max_df=params['vect__max_df'])\n",
    "transformer = TfidfTransformer(use_idf=params['tfidf__use_idf'])\n",
    "learning_model = svm.LinearSVC(C=params['clf__C'])"
   ]
  },
  {
   "cell_type": "markdown",
   "metadata": {},
   "source": [
    "Size of the feature set"
   ]
  },
  {
   "cell_type": "code",
   "execution_count": 16,
   "metadata": {
    "collapsed": false
   },
   "outputs": [
    {
     "data": {
      "text/plain": [
       "(9072, 9302)"
      ]
     },
     "execution_count": 16,
     "metadata": {},
     "output_type": "execute_result"
    }
   ],
   "source": [
    "vectorizer.fit_transform(dataset[\"preprocessed_stem_stop\"]).shape"
   ]
  },
  {
   "cell_type": "markdown",
   "metadata": {},
   "source": [
    "Pipeline"
   ]
  },
  {
   "cell_type": "code",
   "execution_count": 8,
   "metadata": {
    "collapsed": false,
    "scrolled": true
   },
   "outputs": [
    {
     "data": {
      "text/plain": [
       "['output/final_model.pkl',\n",
       " 'output/final_model.pkl_01.npy',\n",
       " 'output/final_model.pkl_02.npy',\n",
       " 'output/final_model.pkl_03.npy',\n",
       " 'output/final_model.pkl_04.npy',\n",
       " 'output/final_model.pkl_05.npy']"
      ]
     },
     "execution_count": 8,
     "metadata": {},
     "output_type": "execute_result"
    }
   ],
   "source": [
    "pipe_clf = Pipeline([('vect', vectorizer),\n",
    "                     ('tfidf', transformer),\n",
    "                     ('clf', learning_model)])\n",
    "\n",
    "pipe_clf.fit(dataset[\"preprocessed_stem_stop\"], dataset[\"highest_reaction\"])\n",
    "\n",
    "from sklearn.externals import joblib\n",
    "joblib.dump(pipe_clf, 'output/final_model.pkl') "
   ]
  },
  {
   "cell_type": "markdown",
   "metadata": {},
   "source": [
    "**This one can compute the vector of probability estimates $P(y|x)$**"
   ]
  },
  {
   "cell_type": "code",
   "execution_count": 17,
   "metadata": {
    "collapsed": false
   },
   "outputs": [],
   "source": [
    "params = {'vect__ngram_range': (1, 2), 'vect__max_df': 1.0,\n",
    "          'clf__n_iter': 10000, 'clf__loss': 'modified_huber',\n",
    "          'tfidf__use_idf': True, 'vect__min_df': 1, 'clf__penalty': 'l2', 'clf__alpha': 1e-05}\n",
    "\n",
    "vectorizer = CountVectorizer(ngram_range=params['vect__ngram_range'],\n",
    "                             min_df=params['vect__min_df'], max_df=params['vect__max_df'])\n",
    "transformer = TfidfTransformer(use_idf=params['tfidf__use_idf'])\n",
    "\n",
    "from sklearn.linear_model import SGDClassifier\n",
    "learning_model = SGDClassifier(n_iter=params['clf__n_iter'], loss=params['clf__loss'],\n",
    "                               penalty=params['clf__penalty'], alpha=params['clf__alpha'])"
   ]
  },
  {
   "cell_type": "markdown",
   "metadata": {},
   "source": [
    "Size of the feature set"
   ]
  },
  {
   "cell_type": "code",
   "execution_count": 18,
   "metadata": {
    "collapsed": false,
    "scrolled": true
   },
   "outputs": [
    {
     "data": {
      "text/plain": [
       "(9072, 49237)"
      ]
     },
     "execution_count": 18,
     "metadata": {},
     "output_type": "execute_result"
    }
   ],
   "source": [
    "vectorizer.fit_transform(dataset[\"preprocessed_stem_stop\"]).shape"
   ]
  },
  {
   "cell_type": "markdown",
   "metadata": {},
   "source": [
    "Pipeline"
   ]
  },
  {
   "cell_type": "code",
   "execution_count": 10,
   "metadata": {
    "collapsed": false,
    "scrolled": true
   },
   "outputs": [
    {
     "data": {
      "text/plain": [
       "['output/final_model_prob.pkl',\n",
       " 'output/final_model_prob.pkl_01.npy',\n",
       " 'output/final_model_prob.pkl_02.npy',\n",
       " 'output/final_model_prob.pkl_03.npy',\n",
       " 'output/final_model_prob.pkl_04.npy',\n",
       " 'output/final_model_prob.pkl_05.npy',\n",
       " 'output/final_model_prob.pkl_06.npy']"
      ]
     },
     "execution_count": 10,
     "metadata": {},
     "output_type": "execute_result"
    }
   ],
   "source": [
    "pipe_sgd_clf = Pipeline([('vect', vectorizer),\n",
    "                     ('tfidf', transformer),\n",
    "                     ('clf', learning_model)])\n",
    "\n",
    "pipe_sgd_clf.fit(dataset[\"preprocessed_stem_stop\"], dataset[\"highest_reaction\"])\n",
    "from sklearn.externals import joblib\n",
    "joblib.dump(pipe_sgd_clf, 'output/final_model_prob.pkl') "
   ]
  }
 ],
 "metadata": {
  "anaconda-cloud": {},
  "kernelspec": {
   "display_name": "Python 3",
   "language": "python",
   "name": "python3"
  },
  "language_info": {
   "codemirror_mode": {
    "name": "ipython",
    "version": 3
   },
   "file_extension": ".py",
   "mimetype": "text/x-python",
   "name": "python",
   "nbconvert_exporter": "python",
   "pygments_lexer": "ipython3",
   "version": "3.5.2"
  }
 },
 "nbformat": 4,
 "nbformat_minor": 0
}
