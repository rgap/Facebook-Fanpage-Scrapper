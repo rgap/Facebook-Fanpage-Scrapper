{
 "cells": [
  {
   "cell_type": "markdown",
   "metadata": {},
   "source": [
    "**Building a dataset**"
   ]
  },
  {
   "cell_type": "code",
   "execution_count": 1,
   "metadata": {
    "collapsed": false
   },
   "outputs": [],
   "source": [
    "import pandas as pd\n",
    "import numpy as np\n",
    "\n",
    "def trunc_sample_gamma(shape, scale, bottom, top):\n",
    "    sample = np.random.gamma(shape, scale)\n",
    "    while not (bottom <= sample <= top):\n",
    "        sample = np.random.gamma(shape, scale)\n",
    "    return sample\n",
    "\n",
    "def trunc_sample_normal(mu, sigma, bottom, top):\n",
    "    sample = np.random.lognormal(mu, sigma)\n",
    "    while not (bottom <= sample <= top):\n",
    "        sample = np.random.lognormal(mu, sigma)\n",
    "    return sample\n"
   ]
  },
  {
   "cell_type": "code",
   "execution_count": 2,
   "metadata": {
    "collapsed": false
   },
   "outputs": [],
   "source": [
    "def toy_dataset():\n",
    "    y_values = []\n",
    "    # Gamma samples\n",
    "    shape, scale = 1, 2\n",
    "    for k in range(10):        \n",
    "        sample = [trunc_sample_gamma(shape=shape, scale=scale, bottom=0, top=5) for i in range(5)]\n",
    "        y_prob = [i / sum(sample) for i in sample]\n",
    "        y_values.append(y_prob)\n",
    "    y = pd.DataFrame(y_values)\n",
    "    \n",
    "    x_values = []\n",
    "    # Lognormal samples\n",
    "    mu, sigma = 0, 2\n",
    "    for k in range(5):\n",
    "        sample = [trunc_sample_normal(mu=mu, sigma=sigma, bottom=0, top=4) for i in range(5)]\n",
    "        x_values.append(sample)\n",
    "    mu, sigma = 4, 2\n",
    "    for k in range(5):\n",
    "        sample = [trunc_sample_normal(mu=mu, sigma=sigma, bottom=0, top=4) for i in range(5)]\n",
    "        x_values.append(sample)\n",
    "    X = pd.DataFrame(x_values)\n",
    "    \n",
    "    return X, y\n",
    "    \n",
    "X, y = toy_dataset()"
   ]
  },
  {
   "cell_type": "code",
   "execution_count": 3,
   "metadata": {
    "collapsed": false
   },
   "outputs": [],
   "source": [
    "from sklearn.grid_search import GridSearchCV\n",
    "\n",
    "import xgboost as xgb\n",
    "from xgboost.sklearn import XGBClassifier"
   ]
  },
  {
   "cell_type": "code",
   "execution_count": 4,
   "metadata": {
    "collapsed": false
   },
   "outputs": [],
   "source": [
    "param_test1 = {\n",
    " 'max_depth': list(range(3, 10, 2)),\n",
    " 'min_child_weight': list(range(1, 6, 2))\n",
    "}\n",
    "\n",
    "estimator = XGBClassifier(learning_rate=0.1, n_estimators=140, max_depth=3, min_child_weight=1,\n",
    "                          gamma=0, subsample=0.8, colsample_bytree=0.8, objective='binary:logistic',\n",
    "                          nthread=4, scale_pos_weight=1, seed=27)\n",
    "\n",
    "grid_search = GridSearchCV(estimator, param_grid=param_test1,\n",
    "                        scoring='roc_auc', n_jobs=4, iid=False, cv=5)"
   ]
  },
  {
   "cell_type": "code",
   "execution_count": 13,
   "metadata": {
    "collapsed": false,
    "scrolled": false
   },
   "outputs": [
    {
     "ename": "ValueError",
     "evalue": "Unknown label type: array([[ 0.25090389,  0.06666868,  0.4867897 ,  0.19392483,  0.0017129 ],\n       [ 0.0954365 ,  0.07293451,  0.49843106,  0.04202098,  0.29117696],\n       [ 0.22135306,  0.51121211,  0.17615767,  0.00316328,  0.08811388],\n       [ 0.0220983 ,  0.33130573,  0.0731186 ,  0.1172908 ,  0.45618657],\n       [ 0.04327643,  0.11975933,  0.12759796,  0.34344003,  0.36592625],\n       [ 0.40034271,  0.18858063,  0.26238488,  0.13389471,  0.01479706],\n       [ 0.3627396 ,  0.24218944,  0.02616875,  0.19351595,  0.17538625],\n       [ 0.00439254,  0.59219008,  0.0435183 ,  0.20443887,  0.15546021],\n       [ 0.44739346,  0.0287383 ,  0.03552818,  0.0757265 ,  0.41261355],\n       [ 0.30487152,  0.21141298,  0.07930728,  0.22339509,  0.18101313]])",
     "output_type": "error",
     "traceback": [
      "\u001b[0;31m---------------------------------------------------------------------------\u001b[0m",
      "\u001b[0;31mValueError\u001b[0m                                Traceback (most recent call last)",
      "\u001b[0;32m<ipython-input-13-66ec788bbbbd>\u001b[0m in \u001b[0;36m<module>\u001b[0;34m()\u001b[0m\n\u001b[1;32m      2\u001b[0m \u001b[0;34m\u001b[0m\u001b[0m\n\u001b[1;32m      3\u001b[0m \u001b[0mclassifier_RF\u001b[0m \u001b[0;34m=\u001b[0m \u001b[0mRandomForestClassifier\u001b[0m\u001b[0;34m(\u001b[0m\u001b[0;34m)\u001b[0m\u001b[0;34m\u001b[0m\u001b[0m\n\u001b[0;32m----> 4\u001b[0;31m \u001b[0mtrained\u001b[0m \u001b[0;34m=\u001b[0m \u001b[0mclassifier_RF\u001b[0m\u001b[0;34m.\u001b[0m\u001b[0mfit\u001b[0m\u001b[0;34m(\u001b[0m\u001b[0mX\u001b[0m\u001b[0;34m,\u001b[0m \u001b[0my\u001b[0m\u001b[0;34m)\u001b[0m\u001b[0;34m\u001b[0m\u001b[0m\n\u001b[0m",
      "\u001b[0;32m/Users/rgap/.virtualenvs/vfanpage/lib/python3.5/site-packages/sklearn/ensemble/forest.py\u001b[0m in \u001b[0;36mfit\u001b[0;34m(self, X, y, sample_weight)\u001b[0m\n\u001b[1;32m    233\u001b[0m         \u001b[0mself\u001b[0m\u001b[0;34m.\u001b[0m\u001b[0mn_outputs_\u001b[0m \u001b[0;34m=\u001b[0m \u001b[0my\u001b[0m\u001b[0;34m.\u001b[0m\u001b[0mshape\u001b[0m\u001b[0;34m[\u001b[0m\u001b[0;36m1\u001b[0m\u001b[0;34m]\u001b[0m\u001b[0;34m\u001b[0m\u001b[0m\n\u001b[1;32m    234\u001b[0m \u001b[0;34m\u001b[0m\u001b[0m\n\u001b[0;32m--> 235\u001b[0;31m         \u001b[0my\u001b[0m\u001b[0;34m,\u001b[0m \u001b[0mexpanded_class_weight\u001b[0m \u001b[0;34m=\u001b[0m \u001b[0mself\u001b[0m\u001b[0;34m.\u001b[0m\u001b[0m_validate_y_class_weight\u001b[0m\u001b[0;34m(\u001b[0m\u001b[0my\u001b[0m\u001b[0;34m)\u001b[0m\u001b[0;34m\u001b[0m\u001b[0m\n\u001b[0m\u001b[1;32m    236\u001b[0m \u001b[0;34m\u001b[0m\u001b[0m\n\u001b[1;32m    237\u001b[0m         \u001b[0;32mif\u001b[0m \u001b[0mgetattr\u001b[0m\u001b[0;34m(\u001b[0m\u001b[0my\u001b[0m\u001b[0;34m,\u001b[0m \u001b[0;34m\"dtype\"\u001b[0m\u001b[0;34m,\u001b[0m \u001b[0;32mNone\u001b[0m\u001b[0;34m)\u001b[0m \u001b[0;34m!=\u001b[0m \u001b[0mDOUBLE\u001b[0m \u001b[0;32mor\u001b[0m \u001b[0;32mnot\u001b[0m \u001b[0my\u001b[0m\u001b[0;34m.\u001b[0m\u001b[0mflags\u001b[0m\u001b[0;34m.\u001b[0m\u001b[0mcontiguous\u001b[0m\u001b[0;34m:\u001b[0m\u001b[0;34m\u001b[0m\u001b[0m\n",
      "\u001b[0;32m/Users/rgap/.virtualenvs/vfanpage/lib/python3.5/site-packages/sklearn/ensemble/forest.py\u001b[0m in \u001b[0;36m_validate_y_class_weight\u001b[0;34m(self, y)\u001b[0m\n\u001b[1;32m    419\u001b[0m \u001b[0;34m\u001b[0m\u001b[0m\n\u001b[1;32m    420\u001b[0m     \u001b[0;32mdef\u001b[0m \u001b[0m_validate_y_class_weight\u001b[0m\u001b[0;34m(\u001b[0m\u001b[0mself\u001b[0m\u001b[0;34m,\u001b[0m \u001b[0my\u001b[0m\u001b[0;34m)\u001b[0m\u001b[0;34m:\u001b[0m\u001b[0;34m\u001b[0m\u001b[0m\n\u001b[0;32m--> 421\u001b[0;31m         \u001b[0mcheck_classification_targets\u001b[0m\u001b[0;34m(\u001b[0m\u001b[0my\u001b[0m\u001b[0;34m)\u001b[0m\u001b[0;34m\u001b[0m\u001b[0m\n\u001b[0m\u001b[1;32m    422\u001b[0m \u001b[0;34m\u001b[0m\u001b[0m\n\u001b[1;32m    423\u001b[0m         \u001b[0my\u001b[0m \u001b[0;34m=\u001b[0m \u001b[0mnp\u001b[0m\u001b[0;34m.\u001b[0m\u001b[0mcopy\u001b[0m\u001b[0;34m(\u001b[0m\u001b[0my\u001b[0m\u001b[0;34m)\u001b[0m\u001b[0;34m\u001b[0m\u001b[0m\n",
      "\u001b[0;32m/Users/rgap/.virtualenvs/vfanpage/lib/python3.5/site-packages/sklearn/utils/multiclass.py\u001b[0m in \u001b[0;36mcheck_classification_targets\u001b[0;34m(y)\u001b[0m\n\u001b[1;32m    171\u001b[0m     if y_type not in ['binary', 'multiclass', 'multiclass-multioutput', \n\u001b[1;32m    172\u001b[0m             'multilabel-indicator', 'multilabel-sequences']:\n\u001b[0;32m--> 173\u001b[0;31m         \u001b[0;32mraise\u001b[0m \u001b[0mValueError\u001b[0m\u001b[0;34m(\u001b[0m\u001b[0;34m\"Unknown label type: %r\"\u001b[0m \u001b[0;34m%\u001b[0m \u001b[0my\u001b[0m\u001b[0;34m)\u001b[0m\u001b[0;34m\u001b[0m\u001b[0m\n\u001b[0m\u001b[1;32m    174\u001b[0m \u001b[0;34m\u001b[0m\u001b[0m\n\u001b[1;32m    175\u001b[0m \u001b[0;34m\u001b[0m\u001b[0m\n",
      "\u001b[0;31mValueError\u001b[0m: Unknown label type: array([[ 0.25090389,  0.06666868,  0.4867897 ,  0.19392483,  0.0017129 ],\n       [ 0.0954365 ,  0.07293451,  0.49843106,  0.04202098,  0.29117696],\n       [ 0.22135306,  0.51121211,  0.17615767,  0.00316328,  0.08811388],\n       [ 0.0220983 ,  0.33130573,  0.0731186 ,  0.1172908 ,  0.45618657],\n       [ 0.04327643,  0.11975933,  0.12759796,  0.34344003,  0.36592625],\n       [ 0.40034271,  0.18858063,  0.26238488,  0.13389471,  0.01479706],\n       [ 0.3627396 ,  0.24218944,  0.02616875,  0.19351595,  0.17538625],\n       [ 0.00439254,  0.59219008,  0.0435183 ,  0.20443887,  0.15546021],\n       [ 0.44739346,  0.0287383 ,  0.03552818,  0.0757265 ,  0.41261355],\n       [ 0.30487152,  0.21141298,  0.07930728,  0.22339509,  0.18101313]])"
     ]
    }
   ],
   "source": [
    "from sklearn.ensemble import RandomForestClassifier\n",
    "\n",
    "classifier_RF = RandomForestClassifier()\n",
    "trained = classifier_RF.fit(X, y)"
   ]
  },
  {
   "cell_type": "code",
   "execution_count": 39,
   "metadata": {
    "collapsed": false,
    "scrolled": false
   },
   "outputs": [
    {
     "data": {
      "text/plain": [
       "1.0397207708399179"
      ]
     },
     "execution_count": 39,
     "metadata": {},
     "output_type": "execute_result"
    }
   ],
   "source": [
    "import numpy as np\n",
    "from sklearn.metrics import average_precision_score\n",
    "from sklearn.metrics import log_loss\n",
    "from sklearn.metrics.pairwise import cosine_similarity\n",
    "from sklearn import metrics\n",
    "\n",
    "y_pred = np.array([888, 3, 0.3, 0.3])\n",
    "y_true = np.array([1, 3, 0.3, 9])\n",
    "metrics.mutual_info_score(y_true, y_pred)"
   ]
  }
 ],
 "metadata": {
  "kernelspec": {
   "display_name": "Python 3",
   "language": "python",
   "name": "python3"
  },
  "language_info": {
   "codemirror_mode": {
    "name": "ipython",
    "version": 3
   },
   "file_extension": ".py",
   "mimetype": "text/x-python",
   "name": "python",
   "nbconvert_exporter": "python",
   "pygments_lexer": "ipython3",
   "version": "3.5.2"
  }
 },
 "nbformat": 4,
 "nbformat_minor": 1
}
