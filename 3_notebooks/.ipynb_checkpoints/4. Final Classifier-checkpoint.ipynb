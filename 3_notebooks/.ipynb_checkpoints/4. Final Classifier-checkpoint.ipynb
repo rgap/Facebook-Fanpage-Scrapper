{
 "cells": [
  {
   "cell_type": "code",
   "execution_count": 19,
   "metadata": {
    "collapsed": false,
    "scrolled": false
   },
   "outputs": [
    {
     "data": {
      "text/plain": [
       "(9072, 29)"
      ]
     },
     "execution_count": 19,
     "metadata": {},
     "output_type": "execute_result"
    }
   ],
   "source": [
    "import numpy as np\n",
    "import pandas as pd\n",
    "import seaborn as sns\n",
    "import matplotlib.pyplot as plt\n",
    "%matplotlib inline\n",
    "sns.set(style='whitegrid', rc={\"grid.linewidth\": 0.1})\n",
    "sns.set_context(\"paper\")\n",
    "y_labels = [\"love\", \"haha\", \"wow\", \"angry\", \"sad\"]\n",
    "\n",
    "dataset = pd.read_json(\"data/preprocessed.json\")\n",
    "dataset = dataset.reset_index(drop=True)\n",
    "dataset.shape"
   ]
  },
  {
   "cell_type": "markdown",
   "metadata": {},
   "source": [
    "## Notes\n",
    "\n",
    "- We found that a simple classifier could deal with the problem of predicting a reaction. At least 7 out of 10 headlines will be correctly classified.\n",
    "- I would again like to point out that this predictive model will serve as a benchmark for future works."
   ]
  },
  {
   "cell_type": "markdown",
   "metadata": {},
   "source": [
    "## Final Classifier"
   ]
  },
  {
   "cell_type": "code",
   "execution_count": 20,
   "metadata": {
    "collapsed": false
   },
   "outputs": [],
   "source": [
    "from sklearn.feature_extraction.text import CountVectorizer, TfidfTransformer\n",
    "from sklearn import svm\n",
    "from sklearn.pipeline import Pipeline\n",
    "\n",
    "params = {'vect__ngram_range': (1, 2), 'tfidf__use_idf': True,\n",
    "          'clf__C': 0.29999999999999999, 'vect__min_df': 2, 'vect__max_df': 1.0}\n",
    "\n",
    "vectorizer = CountVectorizer(ngram_range=params['vect__ngram_range'],\n",
    "                             min_df=params['vect__min_df'], max_df=params['vect__max_df'])\n",
    "transformer = TfidfTransformer(use_idf=params['tfidf__use_idf'])\n",
    "learning_model = svm.LinearSVC(C=params['clf__C'])"
   ]
  },
  {
   "cell_type": "code",
   "execution_count": 21,
   "metadata": {
    "collapsed": false,
    "scrolled": true
   },
   "outputs": [
    {
     "data": {
      "text/plain": [
       "Pipeline(steps=[('vect', CountVectorizer(analyzer='word', binary=False, decode_error='strict',\n",
       "        dtype=<class 'numpy.int64'>, encoding='utf-8', input='content',\n",
       "        lowercase=True, max_df=1.0, max_features=None, min_df=2,\n",
       "        ngram_range=(1, 2), preprocessor=None, stop_words=None,\n",
       "        strip...ax_iter=1000,\n",
       "     multi_class='ovr', penalty='l2', random_state=None, tol=0.0001,\n",
       "     verbose=0))])"
      ]
     },
     "execution_count": 21,
     "metadata": {},
     "output_type": "execute_result"
    }
   ],
   "source": [
    "pipe_clf = Pipeline([('vect', vectorizer),\n",
    "                     ('tfidf', transformer),\n",
    "                     ('clf', learning_model)])\n",
    "\n",
    "pipe_clf.fit(dataset[\"preprocessed_stem_stop\"], dataset[\"highest_reaction\"])"
   ]
  },
  {
   "cell_type": "markdown",
   "metadata": {},
   "source": [
    "## Test data\n",
    "\n",
    "Testing with unseen data from August 29th to September 4th."
   ]
  },
  {
   "cell_type": "code",
   "execution_count": 78,
   "metadata": {
    "collapsed": true
   },
   "outputs": [],
   "source": [
    "def slice_dataset(df, start_time, end_time):\n",
    "    return df[(df['time_created'] >= start_time) & (df['time_created'] <= end_time)]\n",
    "    \n",
    "dataset_sliced = slice_dataset(dataset, \"2016-07-15\", \"2016-08-30\")"
   ]
  },
  {
   "cell_type": "code",
   "execution_count": 79,
   "metadata": {
    "collapsed": false
   },
   "outputs": [],
   "source": [
    "y_true = dataset_sliced[\"highest_reaction\"]"
   ]
  },
  {
   "cell_type": "code",
   "execution_count": 80,
   "metadata": {
    "collapsed": false
   },
   "outputs": [],
   "source": [
    "y_predicted = pipe_clf.predict(dataset_sliced[\"preprocessed_stem_stop\"])"
   ]
  },
  {
   "cell_type": "code",
   "execution_count": 82,
   "metadata": {
    "collapsed": false
   },
   "outputs": [],
   "source": [
    "np.random.seed(0)\n",
    "d = {\"Headline\": dataset_sliced[\"name\"],\n",
    "     \"$y_{pred}$\": y_predicted,\n",
    "     \"$y_{true}$\": y_true}\n",
    "\n",
    "table_test = pd.DataFrame(data=d, columns=[\"Headline\", \"$y_{pred}$\", \"$y_{true}$\"])"
   ]
  },
  {
   "cell_type": "code",
   "execution_count": 94,
   "metadata": {
    "collapsed": false
   },
   "outputs": [
    {
     "data": {
      "text/plain": [
       "array([0])"
      ]
     },
     "execution_count": 94,
     "metadata": {},
     "output_type": "execute_result"
    }
   ],
   "source": [
    "headlines = [\"isis\"]\n",
    "pipe_clf.predict(headlines)"
   ]
  },
  {
   "cell_type": "markdown",
   "metadata": {},
   "source": [
    "## Pickle"
   ]
  },
  {
   "cell_type": "code",
   "execution_count": null,
   "metadata": {
    "collapsed": false,
    "scrolled": true
   },
   "outputs": [],
   "source": [
    "from sklearn.externals import joblib\n",
    "joblib.dump(pipe_clf, 'output/final_model.pkl') "
   ]
  }
 ],
 "metadata": {
  "anaconda-cloud": {},
  "kernelspec": {
   "display_name": "Python 3",
   "language": "python",
   "name": "python3"
  },
  "language_info": {
   "codemirror_mode": {
    "name": "ipython",
    "version": 3
   },
   "file_extension": ".py",
   "mimetype": "text/x-python",
   "name": "python",
   "nbconvert_exporter": "python",
   "pygments_lexer": "ipython3",
   "version": "3.5.2"
  }
 },
 "nbformat": 4,
 "nbformat_minor": 0
}
