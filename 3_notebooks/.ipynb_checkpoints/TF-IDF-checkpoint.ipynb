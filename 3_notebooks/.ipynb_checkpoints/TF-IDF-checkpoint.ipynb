{
 "cells": [
  {
   "cell_type": "markdown",
   "metadata": {},
   "source": [
    "## TF-IDF\n",
    "\n",
    "sklearn's implementation receives an array of strings as documents, then those are tokenized, it counts every word then those countings are normalized and stored in a compressed matrix.\n",
    "\n",
    "Using the TfidfVectorizer directly."
   ]
  },
  {
   "cell_type": "code",
   "execution_count": 1,
   "metadata": {
    "collapsed": false
   },
   "outputs": [
    {
     "name": "stdout",
     "output_type": "stream",
     "text": [
      "  (0, 0)\t0.334906702661\n",
      "  (0, 2)\t0.334906702661\n",
      "  (0, 3)\t0.880724134463\n",
      "  (1, 0)\t1.0\n",
      "  (2, 1)\t0.795960541568\n",
      "  (2, 2)\t0.605348508106\n"
     ]
    }
   ],
   "source": [
    "import numpy as np\n",
    "from sklearn.feature_extraction.text import TfidfVectorizer\n",
    "\n",
    "def test_model(documents, min_df=0):\n",
    "    vectorizer = TfidfVectorizer(ngram_range=(1, 1),\n",
    "                        min_df=min_df, max_df=1.0)\n",
    "    compressed_matrix = vectorizer.fit_transform(documents)\n",
    "    return compressed_matrix, vectorizer\n",
    "\n",
    "documents = [\"top top pokemon incredible\", \n",
    "             \"incredible\", \n",
    "             \"pictures pokemon\"]\n",
    "\n",
    "compressed_matrix, vectorizer = test_model(documents)\n",
    "print(compressed_matrix)"
   ]
  },
  {
   "cell_type": "markdown",
   "metadata": {},
   "source": [
    "Those tuples have the form (document_id, vocabulary_id), starting from 0 and a vocabulary is created and sorted."
   ]
  },
  {
   "cell_type": "code",
   "execution_count": 3,
   "metadata": {
    "collapsed": false
   },
   "outputs": [
    {
     "data": {
      "text/plain": [
       "['incredible', 'pictures', 'pokemon', 'top']"
      ]
     },
     "execution_count": 3,
     "metadata": {},
     "output_type": "execute_result"
    }
   ],
   "source": [
    "vectorizer.get_feature_names()"
   ]
  },
  {
   "cell_type": "code",
   "execution_count": 4,
   "metadata": {
    "collapsed": false,
    "scrolled": true
   },
   "outputs": [
    {
     "name": "stdout",
     "output_type": "stream",
     "text": [
      "[[ 0.3349067   0.          0.3349067   0.88072413]\n",
      " [ 1.          0.          0.          0.        ]\n",
      " [ 0.          0.79596054  0.60534851  0.        ]]\n"
     ]
    },
    {
     "data": {
      "text/plain": [
       "(3, 4)"
      ]
     },
     "execution_count": 4,
     "metadata": {},
     "output_type": "execute_result"
    }
   ],
   "source": [
    "X = compressed_matrix.toarray()\n",
    "print(X)\n",
    "X.shape"
   ]
  },
  {
   "cell_type": "markdown",
   "metadata": {},
   "source": [
    "## TF-IDF as a Feature Model\n",
    "\n",
    "Here I use CountVectorizer which counts every word (and then can be used with a Multinomial Naive Bayes for example) and TfidfTransformer which normalize those countings separately.\n",
    "\n",
    "And we could also use n-gram features (a 2-gram is two words together) which allows the bag of words model to have some information about word ordering.\n",
    "\n",
    "`ngram_range=(self.ngram_min, self.ngram_max)`"
   ]
  }
 ],
 "metadata": {
  "kernelspec": {
   "display_name": "Python 3",
   "language": "python",
   "name": "python3"
  },
  "language_info": {
   "codemirror_mode": {
    "name": "ipython",
    "version": 3
   },
   "file_extension": ".py",
   "mimetype": "text/x-python",
   "name": "python",
   "nbconvert_exporter": "python",
   "pygments_lexer": "ipython3",
   "version": "3.5.2"
  }
 },
 "nbformat": 4,
 "nbformat_minor": 1
}
